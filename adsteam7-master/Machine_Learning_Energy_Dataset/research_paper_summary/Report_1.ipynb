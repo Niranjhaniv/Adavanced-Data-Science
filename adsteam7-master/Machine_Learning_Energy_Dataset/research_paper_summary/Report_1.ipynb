{
 "cells": [
  {
   "cell_type": "markdown",
   "metadata": {},
   "source": [
    "<h1><center>Data Driven prediction models of energy use of appliances in low energy house</center></h1>"
   ]
  },
  {
   "cell_type": "markdown",
   "metadata": {
    "collapsed": true
   },
   "source": [
    "## Overview\n",
    "* [Abstract](#Abstract)\n",
    "* [1. Introduction](#Introduction)\n",
    "  * [1.1. Literature review](#Literature review)\n",
    "  * [1.2. Research Objective](#Research Objective)\n",
    "* [2. House description](#House description)\n",
    "* [3. Data description](#Data description)\n",
    "  * [3.1. Exploratory Analysis](#Exploratory Analysis)\n",
    "  * [3.2. Data features filtering and importance](#Data features filtering and importance)\n",
    "  * [3.3. Performance comparision on the regression models](#Performance comparision on the regression models)\n",
    "  * [3.4. Model selection](#Model selection)\n",
    "  * [3.5. Discussion of results](#Discussion of results)\n",
    "* [4. Research Limitations](#Research Limitations)\n",
    "* [5. Conclusion](#Conclusion)"
   ]
  },
  {
   "cell_type": "markdown",
   "metadata": {},
   "source": [
    "### Abstract "
   ]
  },
  {
   "cell_type": "markdown",
   "metadata": {},
   "source": [
    "The paper illustrates and analyze a predictive model that uses Data driven for the energy use of appliances in low energy house. The collected data from various sources are studied to understand the underlying data pattern. In the later part, the data is subjected for filtering process to remove parameters that are irrelevant for the prediction and along with feature ranking. There were four statistical models which was trained with repeated cross-validation and predicted with testing dataset for evaluation purpose: (i)Multiple Linear regression, (ii)Support Vector machine with radial kernel, (iii)Random Forest and (iv)Gradient Boost Machines. Using all the predictors, Gradient Boost Machines was able to attain 0.97 value for variance under training set and 0.57  for testing set. "
   ]
  },
  {
   "cell_type": "markdown",
   "metadata": {},
   "source": [
    "### 1. Introduction"
   ]
  },
  {
   "cell_type": "markdown",
   "metadata": {},
   "source": [
    "The electrical energy demand is one of the crisis which needs to be addressed. By examining the usuage of applicances energy use in a single building might aid a numerous research study on understanding the electrical energy demand ina a particular region. The two important factors that needs contribution for the study are : the type and number of electrical appliances and the usuage of the same by the occupants. Typically, both are interrelated. The prediction study was carried out using different data scources and environmental parameters. And the datasets were predicted with four different statistical model such as \n",
    "\n",
    "                (i)Multiple Linear regression, \n",
    "                (ii)Support Vector machine with radial kernel, \n",
    "                (iii)Random Forest and \n",
    "                (iv)Gradient Boost Machines\n",
    "\n",
    "The study mostly deals with the problem of aggregate appliances energy use prediction rather than the topic of modelling of appliances energy loads. "
   ]
  },
  {
   "cell_type": "markdown",
   "metadata": {},
   "source": [
    "#### 1.1. Literature review "
   ]
  },
  {
   "cell_type": "markdown",
   "metadata": {},
   "source": [
    "A number of papers and article has been studied to understand the modelling of the appliances. It also helped in considering and elimination factors that are needed for the modelling such as socio ecomonic. The past methodologies which was already implemented was also reviewed. The electricity load prediction was examined to identify the parameters, models and other methods that have been useful for energy prediction. The research on electrical energy use patterns in buildings has been an growing area in recent years. Several questions has been explored in various angle to figure out possiblities of shaping the model."
   ]
  },
  {
   "cell_type": "markdown",
   "metadata": {},
   "source": [
    "#### 1.2. Research Objective"
   ]
  },
  {
   "cell_type": "markdown",
   "metadata": {},
   "source": [
    "The research focuses is to understand the relationships between appliances energy consumption and different predictors. It also explores the performance differnce in each prediction models (RF ,GBM , SVM and linear regression) and predict energy consumption. The influence of predictors/ parameters in the prediction are ranked to find its importance."
   ]
  },
  {
   "cell_type": "markdown",
   "metadata": {},
   "source": [
    "### 2. House description"
   ]
  },
  {
   "cell_type": "markdown",
   "metadata": {},
   "source": [
    "<img src='house_pic.png'>"
   ]
  },
  {
   "cell_type": "markdown",
   "metadata": {},
   "source": [
    "The study was conducted based on a house constructed on 2015 located in Stamburges, Belgium. Every minute details in and around the house in captured including the occupant counts in different rooms. The energy information is collected with an internet connected energy monitoring system where it is stored and then it is reported by e-mail every hour and these energy counters are collected every 10 min.\n",
    "\n",
    "<img src='table_1.png'>"
   ]
  },
  {
   "cell_type": "markdown",
   "metadata": {},
   "source": [
    "Table 1 consists of the individual energy used by the devices . And below graph includes the energy consumtion per month.\n",
    "<img src='graph.png'>\n",
    "\n",
    "The range of energy consumption of light is 1 to 4% since most of them are LEDS. From the above figure we can infer that 70 to 79% of the monthly electrical energy consumption is beacuse of the appliances. The house temperature and humidity are measured using ZigBee wireless sensor network."
   ]
  },
  {
   "cell_type": "markdown",
   "metadata": {},
   "source": [
    "### 3. Data description"
   ]
  },
  {
   "cell_type": "markdown",
   "metadata": {},
   "source": [
    "The time span of the data set is 137 days. Entire analysis is carried out using R. The 10 min interval of collecting reading is taken in order to capture quick changes in energy consumption. The weather data was collected from nearest airport weather station and is merged with date and time in this study.\n",
    "<img src='table_2.png'>\n",
    "\n",
    "The above table consistes of the complete dataset features and its description."
   ]
  },
  {
   "cell_type": "markdown",
   "metadata": {},
   "source": [
    "#### 3.1. Exploratory Analysis"
   ]
  },
  {
   "cell_type": "markdown",
   "metadata": {},
   "source": [
    "In this section, the hidden data patterns of the 31 features. Pair plot is plotted to understand the correlation with the target feature 'Appliances'. The plotted figure shows that a good correlation with the appliances is between outdoor temperature which is 0.12. There is negative correlation with outdoor humidity since temperature and humidity is inversely proportional to each other. The highest correlation is 0.22 between appliances and NSM. An hourly heat map is created as below which helps to explore information.\n",
    "<img src='heat_map.png'>\n",
    "From above figure, it illustrates that there is a increase in energy demand around 6 pm and again a rise around 6 am. Around noon the energy load surges. These is no clear pattern considering the day of the week."
   ]
  },
  {
   "cell_type": "markdown",
   "metadata": {},
   "source": [
    "#### 3.2. Data features filtering and importance"
   ]
  },
  {
   "cell_type": "markdown",
   "metadata": {},
   "source": [
    "Boruta algorithm was used for feature filtering. It provides result that shows the importance of each feature by which data filtering is proceeded. Below the Boruta plot providing the ranking for the features but it does not tell us about the performance of the selected variables with respect to the RMSE.\n",
    "<img src='Boruta_plot.png'>\n",
    "Note : Inorder to test the algorithm, two random features (rv1 and rv2) are included in the dataset."
   ]
  },
  {
   "cell_type": "markdown",
   "metadata": {},
   "source": [
    "#### 3.3. Performance comparision on the regression models"
   ]
  },
  {
   "cell_type": "markdown",
   "metadata": {},
   "source": [
    "All the models were trained with 10 fold cross validation to generate best accuracy. Parallel computatuion is perfoemd to speed up the process. Inorder to comapare each model compatibility with the dataset below values are calculated.\n",
    "<img src='calculation.png'>\n",
    "<img src='calculation1.png'>\n",
    "In which RMSE is root mean squared error ,R-squared is the coefficient of determination, MAE is the mean absolute error and MAPE is mean absolute percentage error where Yi is the actual measurement ,Y`i is the predicted value and n is the number of measurements."
   ]
  },
  {
   "cell_type": "markdown",
   "metadata": {},
   "source": [
    "#### 3.4. Model selection"
   ]
  },
  {
   "cell_type": "markdown",
   "metadata": {},
   "source": [
    "<img src='model.png'>\n",
    "The plot gives the RMSE and R- squared values of the different models considered. We can infer that GBM and RF gives the better values compared to SVM and Linear regression"
   ]
  },
  {
   "cell_type": "markdown",
   "metadata": {},
   "source": [
    "#### 3.5 Discussion of results"
   ]
  },
  {
   "cell_type": "markdown",
   "metadata": {},
   "source": [
    "In training set the GBM model had an R-squared of 0.97 and RF of 0.92. Regarding variable importance , it is interesting to see that for the two models NSM was important predictor.\n",
    "<img src='variable.png'>\n",
    "When looking at the ranking for the GBM moel with no light information, it can be seen that the top predictors are the NSM,Pressure,RH1,RH2,RH3,RH5,T6,RH6,RH4,RH9,T8,T4 and T2. This means that information from the kitchen, living room, laundry room,bathroom,outdoors, office, and bedrooms are the most important."
   ]
  },
  {
   "cell_type": "markdown",
   "metadata": {},
   "source": [
    "### 4. Research Limitations"
   ]
  },
  {
   "cell_type": "markdown",
   "metadata": {},
   "source": [
    "The main limitation in this study was considering only on a single house for analysis. Another limitation is the length of the continuous analysed data (137 days). And for optimal location of wireless sensor it would have been better if more sensors installed for better accuracy."
   ]
  },
  {
   "cell_type": "markdown",
   "metadata": {},
   "source": [
    "### 5. Conclusion"
   ]
  },
  {
   "cell_type": "markdown",
   "metadata": {},
   "source": [
    "The analysis of the dataset in statistical approach generated interesting results from both exploratory analysis and prediction models. Pair plot narrowed our data pattern search with more clear analysis. The RSME and variance of the prediction model such as SVM-radial and multiple linear regression were less compared to GBM and RF models. In the feature selection, humidity and temperature recorded from the wireless sensor network has been proven to increase the prediction accuracy especially data from kitchen, laundry, room, living room and bathrooms. There was difference in importance for certain features like light consumption which proved to have a goood correleation with other features. The future work may incorporate various other features such as solar radiation and precipitation. In addition to it, adding occupancy and occupants acrtivity in each room might give  further more information for the model accuracy."
   ]
  }
 ],
 "metadata": {
  "kernelspec": {
   "display_name": "Python 3",
   "language": "python",
   "name": "python3"
  },
  "language_info": {
   "codemirror_mode": {
    "name": "ipython",
    "version": 3
   },
   "file_extension": ".py",
   "mimetype": "text/x-python",
   "name": "python",
   "nbconvert_exporter": "python",
   "pygments_lexer": "ipython3",
   "version": "3.6.3"
  }
 },
 "nbformat": 4,
 "nbformat_minor": 2
}
