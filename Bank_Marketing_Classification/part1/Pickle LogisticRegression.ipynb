{
 "cells": [
  {
   "cell_type": "code",
   "execution_count": 1,
   "metadata": {
    "collapsed": true
   },
   "outputs": [],
   "source": [
    "from sklearn.linear_model import LogisticRegression\n",
    "import csv\n",
    "import pandas as pd\n",
    "import numpy as np\n",
    "from sklearn.metrics import confusion_matrix, classification_report\n",
    "from sklearn.metrics import accuracy_score\n",
    "from sklearn.metrics import roc_curve,auc\n",
    "import seaborn as sns\n",
    "%matplotlib inline\n",
    "import matplotlib.pyplot as plt\n",
    "import pickle"
   ]
  },
  {
   "cell_type": "code",
   "execution_count": 2,
   "metadata": {
    "collapsed": true
   },
   "outputs": [],
   "source": [
    "df_train= pd.read_csv('SelectedFeatureFinal_train.csv')\n",
    "df_test = pd.read_csv('SelectedFeatureFinal_test.csv')"
   ]
  },
  {
   "cell_type": "code",
   "execution_count": 10,
   "metadata": {},
   "outputs": [],
   "source": [
    "df_test =df_test.drop('Unnamed: 0',axis=1)\n",
    "df_train=df_train.drop('Unnamed: 0',axis=1)"
   ]
  },
  {
   "cell_type": "code",
   "execution_count": 13,
   "metadata": {
    "collapsed": true
   },
   "outputs": [],
   "source": [
    "X_train = df_train.drop('result',axis=1)\n",
    "y_train = df_train['result']\n",
    "X_test = df_test.drop('result',axis=1)\n",
    "y_test = df_test['result']"
   ]
  },
  {
   "cell_type": "code",
   "execution_count": 11,
   "metadata": {},
   "outputs": [
    {
     "data": {
      "text/plain": [
       "(38582, 11)"
      ]
     },
     "execution_count": 11,
     "metadata": {},
     "output_type": "execute_result"
    }
   ],
   "source": [
    "df_train.shape"
   ]
  },
  {
   "cell_type": "code",
   "execution_count": 14,
   "metadata": {},
   "outputs": [
    {
     "name": "stderr",
     "output_type": "stream",
     "text": [
      "C:\\Users\\divya\\Anaconda3\\lib\\site-packages\\sklearn\\linear_model\\logistic.py:1228: UserWarning: 'n_jobs' > 1 does not have any effect when 'solver' is set to 'liblinear'. Got 'n_jobs' = 2.\n",
      "  \" = {}.\".format(self.n_jobs))\n"
     ]
    },
    {
     "name": "stdout",
     "output_type": "stream",
     "text": [
      "Accuracy Score: 0.911\n",
      "Presion Score: 0.700\n"
     ]
    },
    {
     "data": {
      "image/png": "[encoded data removed]",
      "text/plain": [
       "<matplotlib.figure.Figure at 0x19820829518>"
      ]
     },
     "metadata": {},
     "output_type": "display_data"
    }
   ],
   "source": [
    "logistic=LogisticRegression(max_iter = 50,n_jobs = 2,penalty ='l2')\n",
    "logistic.fit(X_train,y_train)\n",
    "predict_test = logistic.predict(X_test)\n",
    "def results(predict_test, y_test):\n",
    "    from sklearn.metrics import accuracy_score, precision_score, confusion_matrix\n",
    "    print (\"Accuracy Score: %.3f\" % accuracy_score(y_test, predict_test))\n",
    "    print (\"Presion Score: %.3f\" % precision_score(y_test, predict_test))\n",
    "\n",
    "    cm = confusion_matrix(y_test, predict_test)\n",
    "    df_cm = pd.DataFrame(100*cm/float(cm.sum()))\n",
    "    ax = sns.heatmap(df_cm.round(2), annot=True, cmap='Blues', fmt='g', linewidths=1)\n",
    "    ax.set_title(\"Confusion Matrix - per 100 predictions\")\n",
    "    ax.set_xlabel('Predicted', fontsize=16)\n",
    "    ax.set_ylabel('True', fontsize=16, rotation=90)\n",
    "    plt.show()\n",
    "\n",
    "results(logistic.predict(X_test), y_test)"
   ]
  },
  {
   "cell_type": "code",
   "execution_count": 15,
   "metadata": {},
   "outputs": [
    {
     "name": "stdout",
     "output_type": "stream",
     "text": [
      "             precision    recall  f1-score   support\n",
      "\n",
      "          0       0.92      0.99      0.95      3469\n",
      "          1       0.70      0.20      0.31       389\n",
      "\n",
      "avg / total       0.89      0.91      0.89      3858\n",
      "\n"
     ]
    }
   ],
   "source": [
    "print(classification_report(y_test,predict_test))"
   ]
  },
  {
   "cell_type": "code",
   "execution_count": 16,
   "metadata": {},
   "outputs": [
    {
     "data": {
      "image/png": "[encoded data removed]",
      "text/plain": [
       "<matplotlib.figure.Figure at 0x19820845908>"
      ]
     },
     "metadata": {},
     "output_type": "display_data"
    }
   ],
   "source": [
    "false_positive_rate, recall, thresholds = roc_curve(y_test, predict_test)\n",
    "roc_auc=auc(false_positive_rate,recall)\n",
    "plt.title('Receiver Operating Characteristic')\n",
    "plt.plot(false_positive_rate, recall, 'b', label='AUC = %0.2f' % roc_auc)\n",
    "plt.legend(loc='lower right')\n",
    "plt.plot([0,1],[0,1],'r--')\n",
    "plt.xlim([0.0,1.0])\n",
    "plt.ylim([0.0,1.0])\n",
    "plt.ylabel('Recall')\n",
    "plt.xlabel('Fall-out')\n",
    "plt.show()"
   ]
  },
  {
   "cell_type": "code",
   "execution_count": 17,
   "metadata": {},
   "outputs": [
    {
     "name": "stdout",
     "output_type": "stream",
     "text": [
      "0.9105754276827371\n"
     ]
    }
   ],
   "source": [
    "filename = 'logistic_reg.pkl'\n",
    "pickle.dump(logistic, open(filename, 'wb'))\n",
    "\n",
    "# load the model from disk\n",
    "loaded_model = pickle.load(open(filename, 'rb'))\n",
    "result = loaded_model.score(X_test, y_test)\n",
    "print(result)"
   ]
  },
  {
   "cell_type": "code",
   "execution_count": 12,
   "metadata": {
    "collapsed": true
   },
   "outputs": [],
   "source": [
    "def classifaction_report_csv(report):\n",
    "            report_data = []\n",
    "            lines = report.split('\\n')\n",
    "            for line in lines[2:-3]:\n",
    "                row = {}\n",
    "                row_data = line.split('      ')\n",
    "                row['class'] = row_data[0]\n",
    "                row['precision'] = float(row_data[1])\n",
    "                row['recall'] = float(row_data[2])\n",
    "                row['f1_score'] = float(row_data[3])\n",
    "                row['support'] = float(row_data[4])\n",
    "                report_data.append(row)\n",
    "            df = pd.DataFrame.from_dict(report_data)\n",
    "            df.to_csv(\"Classification_report_lOGISTIC.csv\", index = False)\n",
    "\n",
    "report = classification_report(y_test, predict_test)\n",
    "classifaction_report_csv(report)"
   ]
  }
 ],
 "metadata": {
  "kernelspec": {
   "display_name": "Python 3",
   "language": "python",
   "name": "python3"
  },
  "language_info": {
   "codemirror_mode": {
    "name": "ipython",
    "version": 3
   },
   "file_extension": ".py",
   "mimetype": "text/x-python",
   "name": "python",
   "nbconvert_exporter": "python",
   "pygments_lexer": "ipython3",
   "version": "3.6.3"
  }
 },
 "nbformat": 4,
 "nbformat_minor": 2
}
