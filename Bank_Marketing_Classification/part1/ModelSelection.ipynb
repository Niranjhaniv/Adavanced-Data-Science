{
 "cells": [
  {
   "cell_type": "code",
   "execution_count": 3,
   "metadata": {
    "collapsed": true
   },
   "outputs": [],
   "source": [
    "from sklearn.model_selection import StratifiedKFold\n",
    "from sklearn.model_selection import GridSearchCV\n",
    "from sklearn.model_selection import train_test_split\n",
    "import csv\n",
    "import pandas as pd\n",
    "import numpy as np\n",
    "from IPython.core.interactiveshell import InteractiveShell\n",
    "InteractiveShell.ast_node_interactivity = \"all\"\n",
    "from sklearn.linear_model import LogisticRegression\n",
    "from sklearn.linear_model import SGDClassifier\n",
    "from sklearn.neural_network import MLPClassifier"
   ]
  },
  {
   "cell_type": "code",
   "execution_count": 10,
   "metadata": {
    "collapsed": true
   },
   "outputs": [],
   "source": [
    "df = pd.read_csv(\"SelectedFeatureFinal_train.csv\")\n",
    "df_test = pd.read_csv(\"SelectedFeatureFinal_test.csv\")"
   ]
  },
  {
   "cell_type": "code",
   "execution_count": 2,
   "metadata": {
    "collapsed": true
   },
   "outputs": [],
   "source": [
    "# df_test = pd.read_csv(\"modifiedBankData_test.csv\")\n",
    "# df_train = pd.read_csv(\"modifiedBankData.csv\")"
   ]
  },
  {
   "cell_type": "code",
   "execution_count": 11,
   "metadata": {
    "collapsed": true
   },
   "outputs": [],
   "source": [
    "df_test =df_test.drop('Unnamed: 0',axis=1)\n",
    "df=df.drop('Unnamed: 0',axis=1)"
   ]
  },
  {
   "cell_type": "code",
   "execution_count": 18,
   "metadata": {
    "collapsed": true
   },
   "outputs": [],
   "source": [
    "X = df.drop('result',axis=1)\n",
    "y= df['result']\n",
    "X_test = df_test.drop('result',axis=1)\n",
    "y_test= df_test['result']"
   ]
  },
  {
   "cell_type": "code",
   "execution_count": 25,
   "metadata": {
    "collapsed": true
   },
   "outputs": [],
   "source": [
    "parameters_sgdc = {\n",
    "    'alpha':[0.5,1,5,10], \n",
    "    'penalty' : ['l1','l2','elasticnet'],  \n",
    "    'max_iter':[50,100,150],  \n",
    "    'n_jobs' : [2,4,6]\n",
    "    }\n",
    "\n",
    "parameters_logistic = {\n",
    "    'penalty':['l2','l1'],\n",
    "    'n_jobs':[2,4,6,8],\n",
    "    'max_iter':[50,100,150]\n",
    "    }\n",
    "\n",
    "parameters_mlp = {\n",
    "    'activation':['identity', 'logistic', 'tanh', 'relu'],\n",
    "    'alpha':[0.5,1,5,10], \n",
    "    'max_iter':[100,150,200,250],\n",
    "    'hidden_layer_sizes': [50,70,90]\n",
    "    }\n"
   ]
  },
  {
   "cell_type": "code",
   "execution_count": 15,
   "metadata": {
    "collapsed": true
   },
   "outputs": [],
   "source": [
    "sgdc = SGDClassifier()\n",
    "logistic=LogisticRegression()\n",
    "MLP = MLPClassifier()"
   ]
  },
  {
   "cell_type": "code",
   "execution_count": 20,
   "metadata": {
    "scrolled": false
   },
   "outputs": [
    {
     "name": "stdout",
     "output_type": "stream",
     "text": [
      "Fitting 10 folds for each of 108 candidates, totalling 1080 fits\n"
     ]
    },
    {
     "name": "stderr",
     "output_type": "stream",
     "text": [
      "[Parallel(n_jobs=4)]: Done  42 tasks      | elapsed:   16.5s\n",
      "[Parallel(n_jobs=4)]: Done 192 tasks      | elapsed:   40.8s\n",
      "[Parallel(n_jobs=4)]: Done 442 tasks      | elapsed:  1.3min\n",
      "[Parallel(n_jobs=4)]: Done 792 tasks      | elapsed:  2.2min\n",
      "[Parallel(n_jobs=4)]: Done 1080 out of 1080 | elapsed:  2.9min finished\n"
     ]
    },
    {
     "data": {
      "text/plain": [
       "GridSearchCV(cv=StratifiedKFold(n_splits=10, random_state=42, shuffle=True),\n",
       "       error_score='raise',\n",
       "       estimator=SGDClassifier(alpha=0.0001, average=False, class_weight=None, epsilon=0.1,\n",
       "       eta0=0.0, fit_intercept=True, l1_ratio=0.15,\n",
       "       learning_rate='optimal', loss='hinge', max_iter=None, n_iter=None,\n",
       "       n_jobs=1, penalty='l2', power_t=0.5, random_state=None,\n",
       "       shuffle=True, tol=None, verbose=0, warm_start=False),\n",
       "       fit_params=None, iid=True, n_jobs=4,\n",
       "       param_grid={'alpha': [0.5, 1, 5, 10], 'penalty': ['l1', 'l2', 'elasticnet'], 'max_iter': [50, 100, 150], 'n_jobs': [2, 4, 6]},\n",
       "       pre_dispatch='2*n_jobs', refit=True, return_train_score='warn',\n",
       "       scoring=None, verbose=1)"
      ]
     },
     "execution_count": 20,
     "metadata": {},
     "output_type": "execute_result"
    },
    {
     "name": "stdout",
     "output_type": "stream",
     "text": [
      "Best score: 0.896\n",
      "Best parameters set:\n",
      "\talpha: 0.5\n",
      "\tmax_iter: 50\n",
      "\tn_jobs: 4\n",
      "\tpenalty: 'elasticnet'\n"
     ]
    }
   ],
   "source": [
    "\n",
    "\n",
    "kfold = StratifiedKFold(n_splits=10, shuffle=True, random_state=42)\n",
    "\n",
    "gridSearch = GridSearchCV(sgdc, parameters_sgdc, cv=kfold, n_jobs=4, verbose=1)\n",
    "gridSearch.fit(X, y)\n",
    "\n",
    "print(\"Best score: %0.3f\" % gridSearch.best_score_)\n",
    "print(\"Best parameters set:\")\n",
    "best_parameters = gridSearch.best_estimator_.get_params()\n",
    "for parameterName in sorted(parameters_sgdc.keys()):\n",
    "    print(\"\\t%s: %r\" % (parameterName, best_parameters[parameterName]))"
   ]
  },
  {
   "cell_type": "code",
   "execution_count": 22,
   "metadata": {},
   "outputs": [
    {
     "name": "stdout",
     "output_type": "stream",
     "text": [
      "Fitting 10 folds for each of 24 candidates, totalling 240 fits\n"
     ]
    },
    {
     "name": "stderr",
     "output_type": "stream",
     "text": [
      "[Parallel(n_jobs=4)]: Done  42 tasks      | elapsed:   47.2s\n",
      "[Parallel(n_jobs=4)]: Done 192 tasks      | elapsed:  8.0min\n",
      "[Parallel(n_jobs=4)]: Done 240 out of 240 | elapsed: 11.6min finished\n",
      "C:\\Users\\divya\\Anaconda3\\lib\\site-packages\\sklearn\\linear_model\\logistic.py:1228: UserWarning: 'n_jobs' > 1 does not have any effect when 'solver' is set to 'liblinear'. Got 'n_jobs' = 2.\n",
      "  \" = {}.\".format(self.n_jobs))\n"
     ]
    },
    {
     "data": {
      "text/plain": [
       "GridSearchCV(cv=StratifiedKFold(n_splits=10, random_state=42, shuffle=True),\n",
       "       error_score='raise',\n",
       "       estimator=LogisticRegression(C=1.0, class_weight=None, dual=False, fit_intercept=True,\n",
       "          intercept_scaling=1, max_iter=100, multi_class='ovr', n_jobs=1,\n",
       "          penalty='l2', random_state=None, solver='liblinear', tol=0.0001,\n",
       "          verbose=0, warm_start=False),\n",
       "       fit_params=None, iid=True, n_jobs=4,\n",
       "       param_grid={'penalty': ['l2', 'l1'], 'n_jobs': [2, 4, 6, 8], 'max_iter': [50, 100, 150]},\n",
       "       pre_dispatch='2*n_jobs', refit=True, return_train_score='warn',\n",
       "       scoring=None, verbose=1)"
      ]
     },
     "execution_count": 22,
     "metadata": {},
     "output_type": "execute_result"
    },
    {
     "name": "stdout",
     "output_type": "stream",
     "text": [
      "Best score: 0.905\n",
      "Best parameters set:\n",
      "\tmax_iter: 50\n",
      "\tn_jobs: 2\n",
      "\tpenalty: 'l2'\n"
     ]
    }
   ],
   "source": [
    "gridSearch = GridSearchCV(logistic, parameters_logistic, cv=kfold, n_jobs=4, verbose=1)\n",
    "gridSearch.fit(X, y)\n",
    "\n",
    "print(\"Best score: %0.3f\" % gridSearch.best_score_)\n",
    "print(\"Best parameters set:\")\n",
    "best_parameters = gridSearch.best_estimator_.get_params()\n",
    "for parameterName in sorted(parameters_logistic.keys()):\n",
    "    print(\"\\t%s: %r\" % (parameterName, best_parameters[parameterName]))"
   ]
  },
  {
   "cell_type": "code",
   "execution_count": 26,
   "metadata": {},
   "outputs": [
    {
     "name": "stdout",
     "output_type": "stream",
     "text": [
      "Fitting 10 folds for each of 192 candidates, totalling 1920 fits\n"
     ]
    },
    {
     "name": "stderr",
     "output_type": "stream",
     "text": [
      "[Parallel(n_jobs=4)]: Done  42 tasks      | elapsed:   25.0s\n",
      "[Parallel(n_jobs=4)]: Done 192 tasks      | elapsed:  1.0min\n",
      "[Parallel(n_jobs=4)]: Done 442 tasks      | elapsed:  2.1min\n",
      "[Parallel(n_jobs=4)]: Done 792 tasks      | elapsed:  4.7min\n",
      "[Parallel(n_jobs=4)]: Done 1242 tasks      | elapsed: 11.3min\n",
      "[Parallel(n_jobs=4)]: Done 1792 tasks      | elapsed: 16.3min\n",
      "[Parallel(n_jobs=4)]: Done 1920 out of 1920 | elapsed: 17.0min finished\n"
     ]
    },
    {
     "data": {
      "text/plain": [
       "GridSearchCV(cv=StratifiedKFold(n_splits=10, random_state=42, shuffle=True),\n",
       "       error_score='raise',\n",
       "       estimator=MLPClassifier(activation='relu', alpha=0.0001, batch_size='auto', beta_1=0.9,\n",
       "       beta_2=0.999, early_stopping=False, epsilon=1e-08,\n",
       "       hidden_layer_sizes=(100,), learning_rate='constant',\n",
       "       learning_rate_init=0.001, max_iter=200, momentum=0.9,\n",
       "       nesterovs_momentum=True, power_t=0.5, random_state=None,\n",
       "       shuffle=True, solver='adam', tol=0.0001, validation_fraction=0.1,\n",
       "       verbose=False, warm_start=False),\n",
       "       fit_params=None, iid=True, n_jobs=4,\n",
       "       param_grid={'activation': ['identity', 'logistic', 'tanh', 'relu'], 'alpha': [0.5, 1, 5, 10], 'max_iter': [100, 150, 200, 250], 'hidden_layer_sizes': [50, 70, 90]},\n",
       "       pre_dispatch='2*n_jobs', refit=True, return_train_score='warn',\n",
       "       scoring=None, verbose=1)"
      ]
     },
     "execution_count": 26,
     "metadata": {},
     "output_type": "execute_result"
    },
    {
     "name": "stdout",
     "output_type": "stream",
     "text": [
      "Best score: 0.899\n",
      "Best parameters set:\n",
      "\tactivation: 'identity'\n",
      "\talpha: 1\n",
      "\thidden_layer_sizes: 50\n",
      "\tmax_iter: 200\n"
     ]
    }
   ],
   "source": [
    "gridSearch = GridSearchCV(MLP, parameters_mlp, cv=kfold, n_jobs=4, verbose=1)\n",
    "gridSearch.fit(X, y)\n",
    "\n",
    "print(\"Best score: %0.3f\" % gridSearch.best_score_)\n",
    "print(\"Best parameters set:\")\n",
    "best_parameters = gridSearch.best_estimator_.get_params()\n",
    "for parameterName in sorted(parameters_mlp.keys()):\n",
    "    print(\"\\t%s: %r\" % (parameterName, best_parameters[parameterName]))"
   ]
  },
  {
   "cell_type": "markdown",
   "metadata": {},
   "source": [
    "### Conclusion"
   ]
  },
  {
   "cell_type": "markdown",
   "metadata": {},
   "source": [
    "Below are the best scores obtained by the three models selected from classification model using GridSearch:\n",
    "\n",
    "* SGDC Classifier     :\n",
    "* Logistic Regression :\n",
    "* MLP Classier        :\n",
    "\n",
    "The best paramters of the three models will pe pickled and pipelined."
   ]
  }
 ],
 "metadata": {
  "kernelspec": {
   "display_name": "Python 3",
   "language": "python",
   "name": "python3"
  },
  "language_info": {
   "codemirror_mode": {
    "name": "ipython",
    "version": 3
   },
   "file_extension": ".py",
   "mimetype": "text/x-python",
   "name": "python",
   "nbconvert_exporter": "python",
   "pygments_lexer": "ipython3",
   "version": "3.6.3"
  }
 },
 "nbformat": 4,
 "nbformat_minor": 2
}
