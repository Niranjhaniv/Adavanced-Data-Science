{
 "cells": [
  {
   "cell_type": "markdown",
   "metadata": {},
   "source": [
    "<h1><center> A review of artificial intelligence based building energy use prediction:<br>Contrasting the capabilities of single and ensemble prediction models</center></h1>"
   ]
  },
  {
   "cell_type": "markdown",
   "metadata": {},
   "source": [
    "## Overview\n",
    "* [Abstract](#Abstract)\n",
    "* [1. Introduction](#Introduction)\n",
    "* [2. Current trends: AI-based building energy use prediction](#Current trends: AI-based building energy use prediction)\n",
    "* [3. AI-based prediction models](#AI-based prediction models)\n",
    "  * [3.1.Single prediction method](#Single prediction method)\n",
    "  * [3.2. Ensemble prediction method](#Ensemble prediction method)\n",
    "* [4. Discussion](#Discussion)\n",
    "* [5. Conclusion](#Conclusion)"
   ]
  },
  {
   "cell_type": "markdown",
   "metadata": {},
   "source": [
    "### Abstract"
   ]
  },
  {
   "cell_type": "markdown",
   "metadata": {},
   "source": [
    "In evaluating buildings energy efficiency, conducting buildings commissioning, and for detecting the building system faults,building energy use prediction plays a important role.They are broadly classified into three types\n",
    "\n",
    "    1) Engineering\n",
    "    2) Artificial Intelligence(AI) based\n",
    "    3) Hybrid approach\n",
    "\n",
    "Out of these three types the AI based approach is mostly prefered as it uses the historical data to predict the future energy consumption and produces the result in rapid and optimal manner.In this paper they discuss about the different approaches and application of AI based prediction model,advantage and limitations,thus concluding with discusion on the future direction of the reasearch on AI based models to predict the energy."
   ]
  },
  {
   "cell_type": "markdown",
   "metadata": {},
   "source": [
    "### Introduction"
   ]
  },
  {
   "cell_type": "markdown",
   "metadata": {},
   "source": [
    "Energy and material consumption has been incresed rapidly that there should be a control in the energy that is used.Researchers uses two models here<br>\n",
    "1) <b>Engineering method</b>\n",
    "    It uses thermodynamic equations that specify the physical behaviour of systems and their interactions with the environment to calculate the energy used.Called as 'white-box' as we know the logic<br>\n",
    "2)<b>AI- Based Method</b>\n",
    "   It is \"black-box\" because it predicts energy without having any knowledge in the relationship between buildinga nd its indivudual component.\n",
    "   There is another method called greybox which combines both white and black.But for both the prior knowledge on the building is required.So use of these two method will be tedious.\n",
    " \n",
    "Here in this paper we are using two prediction models \n",
    "* Single prediction model<br>\n",
    "* Ensemble prediction model\n",
    "\n",
    "\n",
    "    "
   ]
  },
  {
   "cell_type": "markdown",
   "metadata": {},
   "source": [
    "### Current Trends : AI-based building energy use prediction"
   ]
  },
  {
   "cell_type": "markdown",
   "metadata": {},
   "source": [
    "There are totally 35 journals that are identified in Current trends to predict the energy consumption.The selection criteria to narrow down the recent work include\n",
    "* Building type\n",
    "* prediction Approach\n",
    "* Energy Output types predicted\n",
    "* time Scale of prediction \n",
    "* Input data types used"
   ]
  },
  {
   "cell_type": "markdown",
   "metadata": {
    "collapsed": true
   },
   "source": [
    "#### Building type"
   ]
  },
  {
   "cell_type": "markdown",
   "metadata": {},
   "source": [
    "Differnt types of buildimngs are used to predict the performance of the proposed model.\n",
    "There are four categories \n",
    "- Commercial\n",
    "- resedential\n",
    "- educational \n",
    "- research\n",
    "\n",
    "Out of which the educational and research are most often used which has 42% and 33% respectively in the below image.The reason is due to easy availablity of data. For resedential buildimgs the data available is less though the those buildings account for the largest proportion of building energy use.As we have difficulty in collecting the data for resedential building, the AI - based energy use prediction is slowed.\n"
   ]
  },
  {
   "cell_type": "markdown",
   "metadata": {},
   "source": [
    "<img src=\"Machine_Learning_Energy_Dataset/Image/Rep1.png\">"
   ]
  },
  {
   "cell_type": "markdown",
   "metadata": {},
   "source": [
    "#### Prediction Method"
   ]
  },
  {
   "cell_type": "markdown",
   "metadata": {},
   "source": [
    "Models classified into two categories i) Single Prediction ii) Ensemble Prediction\n",
    "In these two, the study results say the single prediction method is widley used for the AI based  building energy use prediction. If we swee about 91% uses single prediction.\n",
    "This is because the Single prediction methos is deep-rooted and framework for predicting is well established.\n",
    "\n",
    "Here the learning algorithms are classified as \n",
    "* ANN\n",
    "* SVR\n",
    "* all others.\n",
    "\n",
    "Among this algorithms ANN is widely used as it is easy to implement and it has reliable prediction performance.\n",
    "\n",
    "MLR algorithm has advantage in long-term building energy use prediction as it is easy to use and has computation simplicity.\n",
    "\n",
    "Other than these two algorithm, other algorithm used are SVR, ARMAX,CHAID,CR."
   ]
  },
  {
   "cell_type": "markdown",
   "metadata": {},
   "source": [
    "#### Energy type"
   ]
  },
  {
   "cell_type": "markdown",
   "metadata": {},
   "source": [
    "Predicted energy is classified into five categories\n",
    "* Building energy\n",
    "* Heating and colling energy \n",
    "* Heating energy\n",
    "* Cooling energy\n",
    "* Others\n",
    "\n",
    "More than half of the studies uses the building energy that determines the overall enegery that is being used.\n",
    "The prediction of energy for building heating and cooling is 35%\n",
    "Some studies use either heating or cooling depending on the climatic zone the building is situated\n"
   ]
  },
  {
   "cell_type": "markdown",
   "metadata": {},
   "source": [
    "<img src=\"Machine_Learning_Energy_Dataset/Image/Rep2.png\">"
   ]
  },
  {
   "cell_type": "markdown",
   "metadata": {},
   "source": [
    "#### Prediction time scale"
   ]
  },
  {
   "cell_type": "markdown",
   "metadata": {},
   "source": [
    "It means the time resolution of prediction that is affected depending on the sampling interval of sensors and the purpose of the research.\n",
    "\n",
    "Most of teh studies chose one prediction scale while other has multiple prediction scale too.\n",
    "\n",
    "Almost half prefer hourly prediction as their time scale. About 8% of studies take annual prediction.In  addition they also chose minute by minute, week,day, month as their time scale"
   ]
  },
  {
   "cell_type": "markdown",
   "metadata": {},
   "source": [
    "<img src=\"Machine_Learning_Energy_Dataset/Image/Rep3.png\">"
   ]
  },
  {
   "cell_type": "markdown",
   "metadata": {},
   "source": [
    "#### Input Data type"
   ]
  },
  {
   "cell_type": "markdown",
   "metadata": {},
   "source": [
    "Researchers collected the input data based on their knowledge of prediction model and data availability.\n",
    "Differnt input features are selected for the AI prediction models\n",
    "They are classified into three based on the type of input data:\n",
    "\n",
    "* Meteorological data\n",
    "* Occupancy Data\n",
    "* Others\n",
    "\n",
    "About 60% of stydies used meteorological data to perform their prediction.\n",
    "Meteorological includes :\n",
    "1) Outdoor temperature,\n",
    "2) Humidity\n",
    "3) Wind speed\n",
    "4) Precipitation\n",
    "5) Solar radiation\n",
    "\n",
    "Occupants have great impact on the energy consumption.But only 29% have used the occupancy details because it is hard to get the quality data.\n",
    "\n",
    "More than half has used the other input data  to build models which include indoor temperature and indoor humidity etc..\n"
   ]
  },
  {
   "cell_type": "markdown",
   "metadata": {},
   "source": [
    "<img src=\"Machine_Learning_Energy_Dataset/Image/Rep4.png\">"
   ]
  },
  {
   "cell_type": "markdown",
   "metadata": {},
   "source": [
    "### AI-Based Prediction models"
   ]
  },
  {
   "cell_type": "markdown",
   "metadata": {},
   "source": [
    "It has four steps to be followed<br>\n",
    "<b>1) Data collection</b>\n",
    "    Acquire the historical input and output data.The accuracy maily depends on the input data. That is more influential data will bring better prediction results.\n",
    "    Output data represents the building energy use.<br>\n",
    "<b>2) Data preprocessing</b>\n",
    "    it organize the data is suitable format before they are used to train the model. \n",
    "    Techniques are \n",
    "        * Data transformation\n",
    "        * Data normalization\n",
    "        * Data interpolation\n",
    "<b>3) Model training </b>\n",
    "    Learning from the historical data. Train the model with the historical data and also select the modt appropriate parameters that improve the prediction performance.<br>\n",
    "<b>4) Model Testing</b>\n",
    "    Apply the testing data to the trained model. To evaluate the performance use RMSE, MAPE, and  R2\n",
    "    "
   ]
  },
  {
   "cell_type": "markdown",
   "metadata": {},
   "source": [
    "#### Single prediction method"
   ]
  },
  {
   "cell_type": "markdown",
   "metadata": {},
   "source": [
    "It refers to the prediction based on the one prediction algorithm\n",
    "\n",
    "<b>1) Multiple Linear Regression<br></b>\n",
    "      About:<br>\n",
    "          It is an approach to model the relationship between a dependant and several independant variable.Input to the model             includes building shape factor,window to floor ratiobuilding time constantand climate which is defined as a function ,           of sol-air temperature and heating set-point.<br>\n",
    "    <b>Findings and Improvements:</b><br>\n",
    "          The model is simplified using three inputs namely building global heat loss coefficient, south equivalent surface, and           the difference between the indoor set point temperature and sol-air temperature. This method predicted the building             and it was later improved by introducing the rate of change of the indoor air temperature as an independent variable.<br><br>\n",
    "    <b>Advantage:</b><br><br>\n",
    "       1) Easy to use\n",
    "       2) efficient to predict long term building energy use<br><br>\n",
    "    <b>Disadvantage</b><br><br>\n",
    "       1) Inability to deal with the nonlinear problems<br>\n",
    "<b>2) Artificial Neural Network<br></b>\n",
    "    <b>About:<br></b>\n",
    "      Non-linear statistical learning technique.Used as a random approximation tool as it has complex relationship between             inputs and the outputs.It has three layers input,hidden,output layer which are interconnected.Three parameters define           ANN<br>\n",
    "      1) the interconnection pattern between neurons of different layers<br>\n",
    "      2) the learning process of updating the weights of the interconnection<br>\n",
    "      3) activation function that converts a neuron's weighted input to its output activation<br>\n",
    "\n",
    "   <b> Findings and Improvements:<br></b>\n",
    "    \n",
    "1) Used GRNN to predict cooling load for commercial buildings<br>\n",
    "2) Used BPNN to predict the heating requirements in three differenty buildings<br>\n",
    "3) Used BPNN to predict cooling demand of a building where Model Trimming method is introduced.<br>\n",
    "4) Used Neuro networks and hybrid GA-ANFIS to predict building energy use<br>\n",
    "5) Used ANN to predict the hourly consumption of electricity<br>\n",
    "\n",
    "<b> Advantage:</b>\n",
    "\n",
    "1) Fast and accurate<br>\n",
    "2) Detect complex nonlinear relationships between input and output<br><br>\n",
    "\n",
    "<b>Disadvantage:<br></b>\n",
    "1) Fails to establish relationship between physical paramertes and building energy use.<br><br><br>\n",
    "\n",
    "<b>3) Support Vector Regression<br></b>\n",
    "\n",
    "  <b> About<br></b>\n",
    "    Computation of a linear regression function in a high      dimensional feature space where the input data are mapped via a nonlinear function<br>\n",
    "   \n",
    "  <b> Findings and Improvements<br></b>\n",
    "   \n",
    "   1) First used in building energy consumption in 2005 - four tropical region selected to predict monthly energy use based on the local weather. Relative error was less than 4% <br>\n",
    "   2) Used SVR to predict the cooling load of an office buildings <br>\n",
    "   3) Compared SVR with ANN for predicting hourly cooling load in building <br>\n",
    "   4) Used SVR, MLR and ANN to predict short term load for non residential buildings.<br>\n",
    "   5) Used SVR with BPNN,RBFNN, GRNN to predict hourly resedential electrical use<br><br><br>\n",
    "  <b> Advantage:<br></b>\n",
    "   1) Optimization is based on the structural risk minimization principle<br>\n",
    "   2) Better balance between prediction accuracy and computation speed <br>\n",
    "   3) High level of prediction can be reached<br><br><br>\n",
    " <b> Disadvantage:<br></b>\n",
    "   1) No uniform standard to determine the kernel function.<br>\n",
    "   \n",
    " \n",
    "   "
   ]
  },
  {
   "cell_type": "markdown",
   "metadata": {},
   "source": [
    "#### Ensemple prediction methods"
   ]
  },
  {
   "cell_type": "markdown",
   "metadata": {},
   "source": [
    "It is an approach using multiple learning algorithms/models to obtain better predictive performance than that could be obtained from any of the constituent learning algorithms/models\n",
    "\n",
    "Works as a framework which aims to provide the best possible\n",
    "prediction performance by automatically managing the strengths and weaknesses of each base model<br>\n",
    "\n",
    "Data collection and Preprocessing are same as the single models. Difference is that single model contains only one learning model, the ensemble model has multiple base models.<br><br>\n",
    "\n",
    "Based on the base models they are classified as <br>\n",
    "            1) heterogeneous<br>\n",
    "            2) homogeneous\n",
    "\n"
   ]
  },
  {
   "cell_type": "markdown",
   "metadata": {},
   "source": [
    "Step 1: Input feature identification \n",
    "    \n",
    "    Identify the important feature. Only crucial features are selected.\n",
    "    \n",
    "Step 2: Data monitoring and preprocessing\n",
    "    \n",
    "    Input and output paramerters are monitered by sensors\n",
    "    Wireless sensor monitor all the sensor and collect the data collaboratively as it improves the efficiency of data acquistion.\n",
    "    \n",
    "    Data preprocessing means missing data points, inaccurate data represenatation.\n",
    "    \n",
    "Step 3: Learning algorithm selection.\n",
    "    \n",
    "    Homogeneous ensemble model only needs to select one algorithm from the currently available machine learning       techniques, which is similar to the algorithm selection process of the single prediction model\n",
    "    \n",
    "    Heterogeneous ensemble model requires a collection of machine learning algorithms to work as its base models\n",
    "    \n",
    "Step 4: Base model generation.\n",
    "    \n",
    "    This step is to train the data. For homogenenous base model we use same learning algorithm and trading data are     different. \n",
    "   \n",
    "    For heterogenous base model same training data to train each learning algorithm.\n",
    "\n",
    "Step 5: Model integration\n",
    "    \n",
    "    Intergrate all the base models to output the final prediction results through certain combination schemes. Minimizing the overall prediction error will be an objective of combination scheme.\n",
    "    "
   ]
  },
  {
   "cell_type": "markdown",
   "metadata": {},
   "source": [
    "<img src=\"Machine_Learning_Energy_Dataset/Image/Rep5.png\">"
   ]
  },
  {
   "cell_type": "markdown",
   "metadata": {},
   "source": [
    "#### Discussion"
   ]
  },
  {
   "cell_type": "markdown",
   "metadata": {},
   "source": [
    "It is concluded that single prediction has been widely used in the area of the building energy use prediction for past 20 years and emsemble model just came into picture.\n",
    "\n",
    "<b>Advantage of single predicted model:</b><br>\n",
    "    1) Reliability\n",
    "    2) Ease of implementation\n",
    "    3) Fast computation speed<br>\n",
    "<b>Disadvantage of single predicted model:</b><br>\n",
    "    1) limited prediction accuracy and reliability\n",
    "    \n",
    "<b>Adavantage of ensemble model:</b><br>\n",
    "    1) improved predictiona accuracy and stability.<br>\n",
    "<b>Disadvantage of ensemble model:</b><br>\n",
    "    1) All base models fail to predict at the same time so prone to erros\n",
    "    "
   ]
  },
  {
   "cell_type": "markdown",
   "metadata": {},
   "source": [
    "<img src=\"Machine_Learning_Energy_Dataset/Image/Rep6.png\">"
   ]
  },
  {
   "cell_type": "markdown",
   "metadata": {},
   "source": [
    "#### Advantage and Disadvantage of AI-Based Prediction models"
   ]
  },
  {
   "cell_type": "markdown",
   "metadata": {},
   "source": [
    "<b>Advantage</b><br>\n",
    "\n",
    "1) Less detailed physical information of the building.<br>\n",
    "2) Data acquistion and data loading is convinient<br>\n",
    "3) promising prediction accuracy <br>\n",
    "\n",
    "<b>Disadvantage</b><br>\n",
    "\n",
    "1) No explicit relationship between the physical building parameters and model inputs<br>\n",
    "2) Hard to be applied on building design phase<br>\n",
    "3) Requires extensive training data <br>\n",
    "4) Should be retrained once the changes are made<br>"
   ]
  },
  {
   "cell_type": "markdown",
   "metadata": {},
   "source": [
    "### Future Directions"
   ]
  },
  {
   "cell_type": "markdown",
   "metadata": {},
   "source": [
    "1) Both the type and the number of input variables should be determined to standardize the data collection instruments<br>\n",
    "\n",
    "2)Previous studies used heuristic methods to train the model.Optimize the tarining data size to shorten the training period<br>\n",
    "\n",
    "3) Study of occupancy information can improve the model<br>\n",
    "\n",
    "4) Efforts to be devoted on residential building energy prediction<br>\n",
    "\n",
    "5) Improve the studis on the application of homogeneous ensemble model.<br>\n",
    "\n",
    "6) Application of ensemple model in energy prediction needs to be improved<br>"
   ]
  },
  {
   "cell_type": "markdown",
   "metadata": {},
   "source": [
    "### Conclusion"
   ]
  },
  {
   "cell_type": "markdown",
   "metadata": {
    "collapsed": true
   },
   "source": [
    "In this paper, we studied on AI based methods and current reserach on it. Also two main categories single prediction and ensemble are also discussed and compared. Differnt types of single prediction and ensemble methods are reviewed in detail. Comparison between the AI based single and ensemble is done to get the differnce between two. Discussed the advantage and disadvanatge of using AI based approach and finally with the future prediction."
   ]
  },
  {
   "cell_type": "code",
   "execution_count": null,
   "metadata": {
    "collapsed": true
   },
   "outputs": [],
   "source": []
  }
 ],
 "metadata": {
  "kernelspec": {
   "display_name": "Python 3",
   "language": "python",
   "name": "python3"
  },
  "language_info": {
   "codemirror_mode": {
    "name": "ipython",
    "version": 3
   },
   "file_extension": ".py",
   "mimetype": "text/x-python",
   "name": "python",
   "nbconvert_exporter": "python",
   "pygments_lexer": "ipython3",
   "version": "3.6.3"
  }
 },
 "nbformat": 4,
 "nbformat_minor": 2
}
