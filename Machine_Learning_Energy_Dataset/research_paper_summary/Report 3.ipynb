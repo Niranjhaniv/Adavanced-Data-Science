{
 "cells": [
  {
   "cell_type": "markdown",
   "metadata": {},
   "source": [
    "<h1><center>Prediction of appliances energy use in smart homes</center></h1>"
   ]
  },
  {
   "cell_type": "markdown",
   "metadata": {
    "collapsed": true
   },
   "source": [
    "## Overview"
   ]
  },
  {
   "cell_type": "markdown",
   "metadata": {},
   "source": [
    "* [Abstract](#Abstract)\n",
    "* [1. Introduction](#Introduction)\n",
    "* [2. The need for energy prediction in housing](#The need for energy prediction in housing)\n",
    "    *[2.1.The smart grid](# The smart grid)\n",
    "    *[2.2.The importance of the energy prediction in smart grids](# The importance of the energy prediction in smart grids)\n",
    "* [3. Energy prediction methodology for appliances in homes](#Energy prediction methodology for appliances in homes)\n",
    "  * [3.1. Assessing the performance of predictors](#Assessing the performance of predictors)\n",
    "  * [3.2. Prediction with different predictors](# Prediction with different predictors)\n",
    "  * [3.3. Improving the prediction precision](#Improving the prediction precision)\n",
    "* [4. Global study of the services in the house](# Global study of the services in the house)\n",
    "* [5. Conclusion](#Conclusion)"
   ]
  },
  {
   "cell_type": "markdown",
   "metadata": {},
   "source": [
    "## Abstract\n"
   ]
  },
  {
   "cell_type": "markdown",
   "metadata": {},
   "source": [
    "This paper is about the prediction of energy consumption of differnt appliances in homes and predicting the next day electricity consumption for some services in homes.Historical data set in teh france is used.Two basic predictors are tested and a stochastic based predictor is\n",
    "proposed. The performance of the predictors is studied and it shows that the proposed predictor gives\n",
    "better results than other approaches. Two processings are proposed to improve the performance of the\n",
    "predictor, segmentation and aggregation of data. Application results are provided."
   ]
  },
  {
   "cell_type": "markdown",
   "metadata": {},
   "source": [
    "## Introduction"
   ]
  },
  {
   "cell_type": "markdown",
   "metadata": {},
   "source": [
    "The prediction of energy in housing sector is determined. The bottom up approach is used that is energy consumption prediction is done for each appliance in a home, then the forcast will be made for the total energy consumed in a home finally, a prediction can be made regarding the households\n",
    "supplied by a certain energy provider. The household energy control systems has three layers\n",
    "            1) Anticipative layer\n",
    "            2) Reactive layer\n",
    "            3) Device layer\n",
    "\n",
    "A statistical approach is further developed in this paper and prediction algorithm based on an assesment index is proposed.         "
   ]
  },
  {
   "cell_type": "markdown",
   "metadata": {},
   "source": [
    "## The need for energy prediction in housing"
   ]
  },
  {
   "cell_type": "markdown",
   "metadata": {},
   "source": [
    "### The smart grid"
   ]
  },
  {
   "cell_type": "markdown",
   "metadata": {
    "collapsed": true
   },
   "source": [
    "Smart grid integrates the use of sensors,\n",
    "communications, computational ability and control in order to\n",
    "enhance the overall functionality of the electric power system. It improve operations, maintenance and\n",
    "planning using modern technology in order to better manage\n",
    "energy use and costs.The main purpose is that the energy that is production necessary for consumers consumption in a reliable manner.\n",
    "\n"
   ]
  },
  {
   "cell_type": "markdown",
   "metadata": {},
   "source": [
    "<img src=\"Machine_Learning_Energy_Dataset/Image/Rep31.png\">"
   ]
  },
  {
   "cell_type": "markdown",
   "metadata": {},
   "source": [
    "\n",
    "Now with smart grid the ,load management has\n",
    "been changing its objectives from load following to load shaping strategies. A new concept called Demand dispatch has been developed\n",
    "Load management involves two types of load control:\n",
    "- Direct control;\n",
    "- Control by cost.\n"
   ]
  },
  {
   "cell_type": "markdown",
   "metadata": {},
   "source": [
    "Direct control: Classical methods of load control which\n",
    "involve increasing the energy production in case of higher load\n",
    "demand. \n",
    "\n",
    "Below fig shows the principle of cost control."
   ]
  },
  {
   "cell_type": "markdown",
   "metadata": {},
   "source": [
    "<img src=\"Machine_Learning_Energy_Dataset/Image/Rep32.png\">"
   ]
  },
  {
   "cell_type": "markdown",
   "metadata": {},
   "source": [
    "Red is depicted the load curve for a house before cost control was applied\n",
    "\n",
    "Two energy consumption peak- morning from 8 to 10 and in night between 6 to 10.\n",
    "\n",
    "Cost control changes the load curve shape in such away that energy consumption peak decreases, even though the total consumption for the specific household is the same\n",
    "\n",
    "It involves increasing the prices for energy at peak periods and after these new tariffs are applied, the curve in green is obtained"
   ]
  },
  {
   "cell_type": "markdown",
   "metadata": {},
   "source": [
    "<img src=\"Machine_Learning_Energy_Dataset/Image/Rep33.png\">"
   ]
  },
  {
   "cell_type": "markdown",
   "metadata": {},
   "source": [
    "The energy market is a powerful instrument that sets the prices between the energy producers and energy suppliers and consumers\n",
    "\n",
    "The energy market is divided into different categories, but the Day Ahead Market or Spot Market is of great interest.This type of energy market involves bidding the energy consumption of the next day.\n",
    "\n"
   ]
  },
  {
   "cell_type": "markdown",
   "metadata": {},
   "source": [
    "### The importance of the energy prediction in smart grids"
   ]
  },
  {
   "cell_type": "markdown",
   "metadata": {},
   "source": [
    "The energy market is a key instrument in the smart grid.Power suppliers have to predict the next day with good precision for good prices for the traded energy. As residential consumers consume more energy the energy suppliers should focus on the forecasting housing consumption <Fig 4>"
   ]
  },
  {
   "cell_type": "markdown",
   "metadata": {},
   "source": [
    "<img src=\"Machine_Learning_Energy_Dataset/Image/Rep34.png\">"
   ]
  },
  {
   "cell_type": "markdown",
   "metadata": {},
   "source": [
    "Predicting the energy is difficult task as it is depending on the users behaviour.<fig 5>"
   ]
  },
  {
   "cell_type": "markdown",
   "metadata": {},
   "source": [
    "<img src=\"Machine_Learning_Energy_Dataset/Image/Rep35.png\">"
   ]
  },
  {
   "cell_type": "markdown",
   "metadata": {},
   "source": [
    "Smart home represents important component in the smart grid.It is a new concept that allows control of the\n",
    "services in the house through a home automation system.<fig 6>"
   ]
  },
  {
   "cell_type": "markdown",
   "metadata": {},
   "source": [
    "<img src=\"Machine_Learning_Energy_Dataset/Image/Rep36.png\">"
   ]
  },
  {
   "cell_type": "markdown",
   "metadata": {},
   "source": [
    "In order to get a better load control, the energy prediction has to go down from total household energy consumption to electrical device consumption.\n",
    "\n",
    "To have direct control it is essential to know the energy consumption in smart homes appliance by appliance inorder to compute the energy reserve or to be able to stop certain services in case of higher energy demand"
   ]
  },
  {
   "cell_type": "markdown",
   "metadata": {},
   "source": [
    "## Energy prediction methodology for appliances in homes"
   ]
  },
  {
   "cell_type": "markdown",
   "metadata": {},
   "source": [
    "The objective of this work, energy prediction for appliances in homes, has a great influence in the functioning of a home energy management system.\n",
    "\n",
    "It consists of an anticipative layer, a reactive layer and a device layer.\n",
    "\n",
    "Prediction of energy consumption of each electrical appliance in the house helps the anticipative layer to compute the optimal energy plan taking into account the user predicted requests and the available energy resources.\n",
    "\n",
    "Here the predictor aims at predicting whether the service will consume energy or not during each hour of the next 24 h.\n",
    "\n",
    "Performance is based on recorded data.The used database comes from Residential Monitoring to Decrease Energy Use and Carbon Emissions in Europe. Information in each house is recorded each 10 min."
   ]
  },
  {
   "cell_type": "markdown",
   "metadata": {},
   "source": [
    "### Assessing the performance of predictors"
   ]
  },
  {
   "cell_type": "markdown",
   "metadata": {},
   "source": [
    "Used to clarify the objectives.Consider the test data.As prediction required by an anticipative energy management systems, the test data are the hourly consumption for an appliance <fig 7>\n"
   ]
  },
  {
   "cell_type": "markdown",
   "metadata": {},
   "source": [
    "<img src=\"Machine_Learning_Energy_Dataset/Image/Rep37.png\">"
   ]
  },
  {
   "cell_type": "markdown",
   "metadata": {},
   "source": [
    "To evaluate the performance consider\n",
    "\n",
    "h- current hour\n",
    "e(h)- be binary value\n",
    "pa(h) - prediction provided by the predictor a \n",
    "\n",
    "<equa>"
   ]
  },
  {
   "cell_type": "markdown",
   "metadata": {},
   "source": [
    "<img src=\"Machine_Learning_Energy_Dataset/Image/Eq1.png\">"
   ]
  },
  {
   "cell_type": "markdown",
   "metadata": {},
   "source": [
    "Gives importance to the first predicted values.it decreases linerally\n",
    "<Fig 8>\n",
    "\n",
    "Any predictor a relies on an historical sliding time window of n hours used to predict the d þ 1 predictions. It can be denoted: ah-n->h. The number n has to be adjusted because if it is too large, seasonal phenomena may disappear, and if it is too short, data set will not be sufficient to yield a precise prediction.\n",
    "\n"
   ]
  },
  {
   "cell_type": "markdown",
   "metadata": {},
   "source": [
    "<img src=\"Machine_Learning_Energy_Dataset/Image/Rep38.png\">"
   ]
  },
  {
   "cell_type": "markdown",
   "metadata": {},
   "source": [
    "Proposed Algorithm for assessing the predictor a invovles the following steps\n",
    "\n",
    "1) Set the time window dimension to n hours within the period\n",
    "2) Compute the predictions for the data corresponding to the\n",
    "historical sliding time window\n",
    "3) Compute the predictor precision based on the \"next day\" data for all possible hours h and compute an average precision for the predictor"
   ]
  },
  {
   "cell_type": "markdown",
   "metadata": {},
   "source": [
    "### Prediction with different predictors"
   ]
  },
  {
   "cell_type": "markdown",
   "metadata": {},
   "source": [
    "#### The “will always consume” predictor"
   ]
  },
  {
   "cell_type": "markdown",
   "metadata": {},
   "source": [
    "It involves considering that the appliance\n",
    "will consume energy permanently. Computed based on the test data.\n",
    "The prediction precisiomn is shown below for each window of test data\n",
    "<Fig 9>\n",
    " "
   ]
  },
  {
   "cell_type": "markdown",
   "metadata": {},
   "source": [
    "<img src=\"Machine_Learning_Energy_Dataset/Image/Rep39.png\">"
   ]
  },
  {
   "cell_type": "markdown",
   "metadata": {},
   "source": [
    "The prediction pa(h,h + 24) is expressed:"
   ]
  },
  {
   "cell_type": "markdown",
   "metadata": {},
   "source": [
    "<img src=\"Machine_Learning_Energy_Dataset/Image/Eq2.png\">"
   ]
  },
  {
   "cell_type": "markdown",
   "metadata": {},
   "source": [
    "#### The “will never consume” predictor\n"
   ]
  },
  {
   "cell_type": "markdown",
   "metadata": {},
   "source": [
    "Predictor assumes the service will not consume at all in the\n",
    "next day.The prediction is computed based on a set of test data and\n",
    "refers to the probability of the service not to consume. \n",
    "\n",
    "The prediction pa(h,h + 24) is expressed:"
   ]
  },
  {
   "cell_type": "markdown",
   "metadata": {},
   "source": [
    "<img src=\"Machine_Learning_Energy_Dataset/Image/Eq3.png\">"
   ]
  },
  {
   "cell_type": "markdown",
   "metadata": {},
   "source": [
    "it is the complement of the \"will always consume\" predictor precision"
   ]
  },
  {
   "cell_type": "markdown",
   "metadata": {},
   "source": [
    "#### The ARMA predictor"
   ]
  },
  {
   "cell_type": "markdown",
   "metadata": {},
   "source": [
    "It is the time seris approach used to predict energy. Here\n",
    "current value of a time variable is\n",
    "assumed to be a function of its past values and it is expressed as\n",
    "a weighted sum"
   ]
  },
  {
   "cell_type": "markdown",
   "metadata": {},
   "source": [
    "<img src=\"Machine_Learning_Energy_Dataset/Image/eq4.png\">"
   ]
  },
  {
   "cell_type": "markdown",
   "metadata": {},
   "source": [
    "where A and C are the polynomial functions in the time shift operator.\n",
    "\n",
    "y(t) - current output \n",
    "e(t) - noise"
   ]
  },
  {
   "cell_type": "markdown",
   "metadata": {},
   "source": [
    "<img src=\"Machine_Learning_Energy_Dataset/Image/Eq5.png\">"
   ]
  },
  {
   "cell_type": "markdown",
   "metadata": {},
   "source": [
    "<img src=\"Machine_Learning_Energy_Dataset/Image/Eq6.png\">"
   ]
  },
  {
   "cell_type": "markdown",
   "metadata": {},
   "source": [
    "<img src=\"Rep310.png\">"
   ]
  },
  {
   "cell_type": "markdown",
   "metadata": {},
   "source": [
    "The modelling of the plot is not proper way for predicting enerfy consumption in case of a singular appliance in home"
   ]
  },
  {
   "cell_type": "markdown",
   "metadata": {},
   "source": [
    "#### Proposed Predictor"
   ]
  },
  {
   "cell_type": "markdown",
   "metadata": {},
   "source": [
    "The people in the house is using the electrical devices as part of his routine activites.\n",
    "Thus it is a stochastic approach.\n",
    "\n",
    "Thus the proposed predictor specifies the probability\n",
    "of the appliance to consume on an hourly base.\n",
    "\n",
    "\n"
   ]
  },
  {
   "cell_type": "markdown",
   "metadata": {},
   "source": [
    "<img src=\"Eq7.png\">"
   ]
  },
  {
   "cell_type": "markdown",
   "metadata": {},
   "source": [
    "where n(h) is considered number of hours \n",
    "n1(h,h + 24) is the number of times the service did consume during\n",
    "hour h of the historical data and pa,t is a set threshold"
   ]
  },
  {
   "cell_type": "markdown",
   "metadata": {},
   "source": [
    "<img src=\"Rep311.png\">"
   ]
  },
  {
   "cell_type": "markdown",
   "metadata": {},
   "source": [
    "### Improving the prediction precision"
   ]
  },
  {
   "cell_type": "markdown",
   "metadata": {},
   "source": [
    "#### The segmentation of data"
   ]
  },
  {
   "cell_type": "markdown",
   "metadata": {},
   "source": [
    "While mining the data the recurrence pattern is searched in order to improve the prediction.\n",
    "The segmentation of data can be made considering different such as season,month,period of the day, type of the day.\n",
    "Objective - reduce the average dispersion in order to improve the prediction.\n",
    "After segmentation the segments are merged using clustering algorithm\n"
   ]
  },
  {
   "cell_type": "markdown",
   "metadata": {},
   "source": [
    "The center of each cluster is then re-estimated as the centroid of\n",
    "the points assigned to it. The process is then iterated until\n",
    "a convergence criterion is accomplished:"
   ]
  },
  {
   "cell_type": "markdown",
   "metadata": {},
   "source": [
    "ED(X,y) <=   EDt\n",
    "where EDt is an imposed threshold."
   ]
  },
  {
   "cell_type": "markdown",
   "metadata": {},
   "source": [
    "####The prediction precision after clustering"
   ]
  },
  {
   "cell_type": "markdown",
   "metadata": {},
   "source": [
    "Two clusters are obtained.\n",
    "\n",
    "    Cluster 1 - WeekDay data\n",
    "    Cluster 2 - WeekEnd data\n",
    "    \n",
    "Now initial data is divided into two sets depending on number of clusters and segments\n",
    "Predictor is applied inorder to get the precision.\n"
   ]
  },
  {
   "cell_type": "markdown",
   "metadata": {},
   "source": [
    "<img src=\"Rep312.png\">"
   ]
  },
  {
   "cell_type": "markdown",
   "metadata": {},
   "source": [
    "<img src=\"Rep313.png\">"
   ]
  },
  {
   "cell_type": "markdown",
   "metadata": {},
   "source": [
    "<img src=\"Rep314.png\">"
   ]
  },
  {
   "cell_type": "markdown",
   "metadata": {},
   "source": [
    "Prediction in below figure presengt the 3 situation\n",
    "\n",
    "    For initial energy consumption data, for merged segments in cluster C1\n",
    "data and for merged segments in cluster C2 data. When comparing the presion increases after the clustering is applied. "
   ]
  },
  {
   "cell_type": "markdown",
   "metadata": {},
   "source": [
    "<img src=\"Rep312.png\">"
   ]
  },
  {
   "cell_type": "markdown",
   "metadata": {},
   "source": [
    "<img src=\"Rep313.png\">"
   ]
  },
  {
   "cell_type": "markdown",
   "metadata": {},
   "source": [
    "## Global study of the services in the house"
   ]
  },
  {
   "cell_type": "markdown",
   "metadata": {},
   "source": [
    "This section presents the results for different electrical appliances\n",
    "in the house when the proposed predictor is used in\n",
    "comparison with the basic predictors “will never consume” and\n",
    "“will consume continuously”"
   ]
  },
  {
   "cell_type": "markdown",
   "metadata": {},
   "source": [
    "The prediction acts in a speacial manner depending on the tyoe of the electrical appliance.\n",
    "The prediction of refridgerator is lower than the precision assuming permanent consumption for time windows.\n",
    "This implies that the prediction for these appliances should be done\n",
    "considering a short period of historical data (e.g. twoweeks) in order\n",
    "to get a high performance"
   ]
  },
  {
   "cell_type": "markdown",
   "metadata": {},
   "source": [
    "<img src=\"Rep315.png\">"
   ]
  },
  {
   "cell_type": "markdown",
   "metadata": {},
   "source": [
    "<img src=\"Rep317.png\">"
   ]
  },
  {
   "cell_type": "markdown",
   "metadata": {},
   "source": [
    "## Conclusion"
   ]
  },
  {
   "cell_type": "markdown",
   "metadata": {},
   "source": [
    "Forecasting the energy consumption in homes is an important aspect in power management. The development of the smart grid is not possible without a good prediction of energy consumption. Prediction depends on the inhabitants behaviour, so a stochastic method for prediction has been presented.\n",
    "A relevant pedictor is presented based on the segmentation of data. The results are divided into k-means clustering algorithm that improves the precision"
   ]
  },
  {
   "cell_type": "code",
   "execution_count": null,
   "metadata": {
    "collapsed": true
   },
   "outputs": [],
   "source": []
  }
 ],
 "metadata": {
  "kernelspec": {
   "display_name": "Python 3",
   "language": "python",
   "name": "python3"
  },
  "language_info": {
   "codemirror_mode": {
    "name": "ipython",
    "version": 3
   },
   "file_extension": ".py",
   "mimetype": "text/x-python",
   "name": "python",
   "nbconvert_exporter": "python",
   "pygments_lexer": "ipython3",
   "version": "3.6.3"
  }
 },
 "nbformat": 4,
 "nbformat_minor": 2
}
