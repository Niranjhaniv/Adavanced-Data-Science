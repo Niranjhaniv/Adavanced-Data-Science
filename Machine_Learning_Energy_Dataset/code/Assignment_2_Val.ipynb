{
 "cells": [
  {
   "cell_type": "code",
   "execution_count": 3,
   "metadata": {},
   "outputs": [
    {
     "name": "stderr",
     "output_type": "stream",
     "text": [
      "C:\\Users\\gaurang\\Anaconda3\\lib\\site-packages\\sklearn\\cross_validation.py:41: DeprecationWarning: This module was deprecated in version 0.18 in favor of the model_selection module into which all the refactored classes and functions are moved. Also note that the interface of the new CV iterators are different from that of this module. This module will be removed in 0.20.\n",
      "  \"This module will be removed in 0.20.\", DeprecationWarning)\n",
      "C:\\Users\\gaurang\\Anaconda3\\lib\\site-packages\\sklearn\\grid_search.py:42: DeprecationWarning: This module was deprecated in version 0.18 in favor of the model_selection module into which all the refactored classes and functions are moved. This module will be removed in 0.20.\n",
      "  DeprecationWarning)\n"
     ]
    }
   ],
   "source": [
    "import csv\n",
    "import pandas as pd\n",
    "import numpy as np\n",
    "from sklearn import cross_validation\n",
    "from sklearn.ensemble import RandomForestRegressor\n",
    "from sklearn.ensemble import GradientBoostingRegressor\n",
    "from sklearn.neural_network import MLPRegressor\n",
    "from sklearn.metrics import *\n",
    "from math import sqrt\n",
    "from sklearn.cross_validation import LeaveOneOut\n",
    "from sklearn.cross_validation import KFold, cross_val_score\n",
    "from sklearn import datasets, linear_model\n",
    "from sklearn import datasets, linear_model\n",
    "from sklearn.grid_search import GridSearchCV\n",
    "from sklearn.cross_validation import LeaveOneOut\n",
    "from sklearn.preprocessing import scale \n",
    "from sklearn.linear_model import ElasticNet\n",
    "from sklearn.metrics import r2_score\n",
    "from sklearn.model_selection import train_test_split\n",
    "from sklearn.metrics import *\n",
    "from math import sqrt\n",
    "from tqdm import tqdm\n",
    "from sklearn.linear_model import Ridge, RidgeCV, Lasso, LassoCV\n",
    "from sklearn.metrics import mean_squared_error\n",
    "%matplotlib inline\n",
    "import matplotlib.pyplot as plt"
   ]
  },
  {
   "cell_type": "code",
   "execution_count": 4,
   "metadata": {
    "collapsed": true
   },
   "outputs": [],
   "source": [
    "Data = pd.DataFrame.from_csv('normalizedData.csv')"
   ]
  },
  {
   "cell_type": "code",
   "execution_count": 5,
   "metadata": {},
   "outputs": [
    {
     "data": {
      "text/html": [
       "<div>\n",
       "<style>\n",
       "    .dataframe thead tr:only-child th {\n",
       "        text-align: right;\n",
       "    }\n",
       "\n",
       "    .dataframe thead th {\n",
       "        text-align: left;\n",
       "    }\n",
       "\n",
       "    .dataframe tbody tr th {\n",
       "        vertical-align: top;\n",
       "    }\n",
       "</style>\n",
       "<table border=\"1\" class=\"dataframe\">\n",
       "  <thead>\n",
       "    <tr style=\"text-align: right;\">\n",
       "      <th></th>\n",
       "      <th>Appliances</th>\n",
       "      <th>lights</th>\n",
       "      <th>temp_kitchen</th>\n",
       "      <th>hum_kitchen</th>\n",
       "      <th>temp_living</th>\n",
       "      <th>hum_living</th>\n",
       "      <th>temp_laundry</th>\n",
       "      <th>hum_laundry</th>\n",
       "      <th>temp_office</th>\n",
       "      <th>hum_office</th>\n",
       "      <th>...</th>\n",
       "      <th>Num_sec_midnight</th>\n",
       "      <th>Friday</th>\n",
       "      <th>Monday</th>\n",
       "      <th>Saturday</th>\n",
       "      <th>Sunday</th>\n",
       "      <th>Thursday</th>\n",
       "      <th>Tuesday</th>\n",
       "      <th>Wednesday</th>\n",
       "      <th>WeekDay</th>\n",
       "      <th>Weekend</th>\n",
       "    </tr>\n",
       "    <tr>\n",
       "      <th>date</th>\n",
       "      <th></th>\n",
       "      <th></th>\n",
       "      <th></th>\n",
       "      <th></th>\n",
       "      <th></th>\n",
       "      <th></th>\n",
       "      <th></th>\n",
       "      <th></th>\n",
       "      <th></th>\n",
       "      <th></th>\n",
       "      <th></th>\n",
       "      <th></th>\n",
       "      <th></th>\n",
       "      <th></th>\n",
       "      <th></th>\n",
       "      <th></th>\n",
       "      <th></th>\n",
       "      <th></th>\n",
       "      <th></th>\n",
       "      <th></th>\n",
       "      <th></th>\n",
       "    </tr>\n",
       "  </thead>\n",
       "  <tbody>\n",
       "    <tr>\n",
       "      <th>2016-01-11 17:00:00</th>\n",
       "      <td>60</td>\n",
       "      <td>3.301180</td>\n",
       "      <td>-1.118616</td>\n",
       "      <td>1.843774</td>\n",
       "      <td>-0.520398</td>\n",
       "      <td>1.073656</td>\n",
       "      <td>-1.235032</td>\n",
       "      <td>1.686087</td>\n",
       "      <td>-0.908194</td>\n",
       "      <td>1.506399</td>\n",
       "      <td>...</td>\n",
       "      <td>-0.007118</td>\n",
       "      <td>-0.410408</td>\n",
       "      <td>2.470571</td>\n",
       "      <td>-0.401176</td>\n",
       "      <td>-0.401176</td>\n",
       "      <td>-0.413353</td>\n",
       "      <td>-0.413353</td>\n",
       "      <td>-0.413353</td>\n",
       "      <td>0.619379</td>\n",
       "      <td>0.0</td>\n",
       "    </tr>\n",
       "    <tr>\n",
       "      <th>2016-01-11 17:10:00</th>\n",
       "      <td>60</td>\n",
       "      <td>3.301180</td>\n",
       "      <td>-1.118616</td>\n",
       "      <td>1.616766</td>\n",
       "      <td>-0.520398</td>\n",
       "      <td>1.057071</td>\n",
       "      <td>-1.235032</td>\n",
       "      <td>1.704523</td>\n",
       "      <td>-0.908194</td>\n",
       "      <td>1.604488</td>\n",
       "      <td>...</td>\n",
       "      <td>140.474197</td>\n",
       "      <td>-0.410408</td>\n",
       "      <td>2.470571</td>\n",
       "      <td>-0.401176</td>\n",
       "      <td>-0.401176</td>\n",
       "      <td>-0.413353</td>\n",
       "      <td>-0.413353</td>\n",
       "      <td>-0.413353</td>\n",
       "      <td>0.619379</td>\n",
       "      <td>0.0</td>\n",
       "    </tr>\n",
       "    <tr>\n",
       "      <th>2016-01-11 17:20:00</th>\n",
       "      <td>50</td>\n",
       "      <td>3.301180</td>\n",
       "      <td>-1.118616</td>\n",
       "      <td>1.517921</td>\n",
       "      <td>-0.520398</td>\n",
       "      <td>1.033523</td>\n",
       "      <td>-1.235032</td>\n",
       "      <td>1.748563</td>\n",
       "      <td>-0.944091</td>\n",
       "      <td>1.580878</td>\n",
       "      <td>...</td>\n",
       "      <td>-0.007118</td>\n",
       "      <td>-0.410408</td>\n",
       "      <td>2.470571</td>\n",
       "      <td>-0.401176</td>\n",
       "      <td>-0.401176</td>\n",
       "      <td>-0.413353</td>\n",
       "      <td>-0.413353</td>\n",
       "      <td>-0.413353</td>\n",
       "      <td>0.619379</td>\n",
       "      <td>0.0</td>\n",
       "    </tr>\n",
       "    <tr>\n",
       "      <th>2016-01-11 17:30:00</th>\n",
       "      <td>50</td>\n",
       "      <td>4.561263</td>\n",
       "      <td>-1.118616</td>\n",
       "      <td>1.459284</td>\n",
       "      <td>-0.520398</td>\n",
       "      <td>1.024514</td>\n",
       "      <td>-1.235032</td>\n",
       "      <td>1.769047</td>\n",
       "      <td>-0.962039</td>\n",
       "      <td>1.542487</td>\n",
       "      <td>...</td>\n",
       "      <td>-0.007118</td>\n",
       "      <td>-0.410408</td>\n",
       "      <td>2.470571</td>\n",
       "      <td>-0.401176</td>\n",
       "      <td>-0.401176</td>\n",
       "      <td>-0.413353</td>\n",
       "      <td>-0.413353</td>\n",
       "      <td>-0.413353</td>\n",
       "      <td>0.619379</td>\n",
       "      <td>0.0</td>\n",
       "    </tr>\n",
       "    <tr>\n",
       "      <th>2016-01-11 17:40:00</th>\n",
       "      <td>60</td>\n",
       "      <td>4.561263</td>\n",
       "      <td>-1.118616</td>\n",
       "      <td>1.526298</td>\n",
       "      <td>-0.520398</td>\n",
       "      <td>1.009771</td>\n",
       "      <td>-1.235032</td>\n",
       "      <td>1.769047</td>\n",
       "      <td>-0.962039</td>\n",
       "      <td>1.497953</td>\n",
       "      <td>...</td>\n",
       "      <td>-0.007118</td>\n",
       "      <td>-0.410408</td>\n",
       "      <td>2.470571</td>\n",
       "      <td>-0.401176</td>\n",
       "      <td>-0.401176</td>\n",
       "      <td>-0.413353</td>\n",
       "      <td>-0.413353</td>\n",
       "      <td>-0.413353</td>\n",
       "      <td>0.619379</td>\n",
       "      <td>0.0</td>\n",
       "    </tr>\n",
       "  </tbody>\n",
       "</table>\n",
       "<p>5 rows × 38 columns</p>\n",
       "</div>"
      ],
      "text/plain": [
       "                     Appliances    lights  temp_kitchen  hum_kitchen  \\\n",
       "date                                                                   \n",
       "2016-01-11 17:00:00          60  3.301180     -1.118616     1.843774   \n",
       "2016-01-11 17:10:00          60  3.301180     -1.118616     1.616766   \n",
       "2016-01-11 17:20:00          50  3.301180     -1.118616     1.517921   \n",
       "2016-01-11 17:30:00          50  4.561263     -1.118616     1.459284   \n",
       "2016-01-11 17:40:00          60  4.561263     -1.118616     1.526298   \n",
       "\n",
       "                     temp_living  hum_living  temp_laundry  hum_laundry  \\\n",
       "date                                                                      \n",
       "2016-01-11 17:00:00    -0.520398    1.073656     -1.235032     1.686087   \n",
       "2016-01-11 17:10:00    -0.520398    1.057071     -1.235032     1.704523   \n",
       "2016-01-11 17:20:00    -0.520398    1.033523     -1.235032     1.748563   \n",
       "2016-01-11 17:30:00    -0.520398    1.024514     -1.235032     1.769047   \n",
       "2016-01-11 17:40:00    -0.520398    1.009771     -1.235032     1.769047   \n",
       "\n",
       "                     temp_office  hum_office   ...     Num_sec_midnight  \\\n",
       "date                                           ...                        \n",
       "2016-01-11 17:00:00    -0.908194    1.506399   ...            -0.007118   \n",
       "2016-01-11 17:10:00    -0.908194    1.604488   ...           140.474197   \n",
       "2016-01-11 17:20:00    -0.944091    1.580878   ...            -0.007118   \n",
       "2016-01-11 17:30:00    -0.962039    1.542487   ...            -0.007118   \n",
       "2016-01-11 17:40:00    -0.962039    1.497953   ...            -0.007118   \n",
       "\n",
       "                       Friday    Monday  Saturday    Sunday  Thursday  \\\n",
       "date                                                                    \n",
       "2016-01-11 17:00:00 -0.410408  2.470571 -0.401176 -0.401176 -0.413353   \n",
       "2016-01-11 17:10:00 -0.410408  2.470571 -0.401176 -0.401176 -0.413353   \n",
       "2016-01-11 17:20:00 -0.410408  2.470571 -0.401176 -0.401176 -0.413353   \n",
       "2016-01-11 17:30:00 -0.410408  2.470571 -0.401176 -0.401176 -0.413353   \n",
       "2016-01-11 17:40:00 -0.410408  2.470571 -0.401176 -0.401176 -0.413353   \n",
       "\n",
       "                      Tuesday  Wednesday   WeekDay  Weekend  \n",
       "date                                                         \n",
       "2016-01-11 17:00:00 -0.413353  -0.413353  0.619379      0.0  \n",
       "2016-01-11 17:10:00 -0.413353  -0.413353  0.619379      0.0  \n",
       "2016-01-11 17:20:00 -0.413353  -0.413353  0.619379      0.0  \n",
       "2016-01-11 17:30:00 -0.413353  -0.413353  0.619379      0.0  \n",
       "2016-01-11 17:40:00 -0.413353  -0.413353  0.619379      0.0  \n",
       "\n",
       "[5 rows x 38 columns]"
      ]
     },
     "execution_count": 5,
     "metadata": {},
     "output_type": "execute_result"
    }
   ],
   "source": [
    "Data.head()"
   ]
  },
  {
   "cell_type": "markdown",
   "metadata": {},
   "source": [
    "## Holdout sets"
   ]
  },
  {
   "cell_type": "code",
   "execution_count": 6,
   "metadata": {
    "collapsed": true
   },
   "outputs": [],
   "source": [
    "train = pd.DataFrame.from_csv(\"train.csv\")\n",
    "test = pd.DataFrame.from_csv(\"test.csv\")\n",
    "X_train = train.iloc[:,:len(train.columns)-1]\n",
    "y_train = train.iloc[:,len(train.columns)-1]\n",
    "X_test = test.iloc[:,:len(test.columns)-1]\n",
    "y_test = test.iloc[:,len(test.columns)-1]"
   ]
  },
  {
   "cell_type": "markdown",
   "metadata": {},
   "source": [
    "## Validation Curve"
   ]
  },
  {
   "cell_type": "code",
   "execution_count": 9,
   "metadata": {
    "collapsed": true
   },
   "outputs": [],
   "source": [
    "from sklearn.model_selection import validation_curve\n",
    "param_range = np.arange(1, 250, 2)\n",
    "train_scores, test_scores = validation_curve(RandomForestRegressor(), \n",
    "                                             X_train, \n",
    "                                             y_train, \n",
    "                                             param_name=\"n_estimators\", \n",
    "                                             param_range=param_range,\n",
    "                                             cv=3, \n",
    "                                             scoring=\"r2\", \n",
    "                                             n_jobs=-1)"
   ]
  },
  {
   "cell_type": "code",
   "execution_count": 10,
   "metadata": {},
   "outputs": [
    {
     "data": {
      "image/png": "[encoded data removed]",
      "text/plain": [
       "<matplotlib.figure.Figure at 0x25b80787f60>"
      ]
     },
     "metadata": {},
     "output_type": "display_data"
    }
   ],
   "source": [
    "\n",
    "train_scores_mean = np.mean(train_scores, axis=1)\n",
    "train_scores_std = np.std(train_scores, axis=1)\n",
    "test_scores_mean = np.mean(test_scores, axis=1)\n",
    "test_scores_std = np.std(test_scores, axis=1)\n",
    "\n",
    "plt.title(\"Validation Curve with SVM\")\n",
    "plt.xlabel(\"$\\gamma$\")\n",
    "plt.ylabel(\"Score\")\n",
    "plt.ylim(0.0, 1.1)\n",
    "lw = 2\n",
    "plt.semilogx(param_range, train_scores_mean, label=\"Training score\",\n",
    "             color=\"darkorange\", lw=lw)\n",
    "plt.fill_between(param_range, train_scores_mean - train_scores_std,\n",
    "                 train_scores_mean + train_scores_std, alpha=0.2,\n",
    "                 color=\"darkorange\", lw=lw)\n",
    "plt.semilogx(param_range, test_scores_mean, label=\"Cross-validation score\",\n",
    "             color=\"navy\", lw=lw)\n",
    "plt.fill_between(param_range, test_scores_mean - test_scores_std,\n",
    "                 test_scores_mean + test_scores_std, alpha=0.2,\n",
    "                 color=\"navy\", lw=lw)\n",
    "plt.legend(loc=\"best\")\n",
    "plt.show()"
   ]
  },
  {
   "cell_type": "code",
   "execution_count": 13,
   "metadata": {
    "collapsed": true
   },
   "outputs": [],
   "source": [
    "from sklearn.model_selection import validation_curve\n",
    "param_range = np.arange(1, 250, 2)\n",
    "train_scores, test_scores = validation_curve(GradientBoostingRegressor(), \n",
    "                                             X_train, \n",
    "                                             y_train, \n",
    "                                             param_name=\"n_estimators\", \n",
    "                                             param_range=param_range,\n",
    "                                             cv=3, \n",
    "                                             scoring=\"r2\", \n",
    "                                             n_jobs=-1)"
   ]
  },
  {
   "cell_type": "code",
   "execution_count": 14,
   "metadata": {},
   "outputs": [
    {
     "data": {
      "image/png": "[encoded data removed]",
      "text/plain": [
       "<matplotlib.figure.Figure at 0x25b80d85e80>"
      ]
     },
     "metadata": {},
     "output_type": "display_data"
    }
   ],
   "source": [
    "train_scores_mean = np.mean(train_scores, axis=1)\n",
    "train_scores_std = np.std(train_scores, axis=1)\n",
    "test_scores_mean = np.mean(test_scores, axis=1)\n",
    "test_scores_std = np.std(test_scores, axis=1)\n",
    "\n",
    "plt.title(\"Validation Curve with SVM\")\n",
    "plt.xlabel(\"$\\gamma$\")\n",
    "plt.ylabel(\"Score\")\n",
    "plt.ylim(0.0, 1.1)\n",
    "lw = 2\n",
    "plt.semilogx(param_range, train_scores_mean, label=\"Training score\",\n",
    "             color=\"darkorange\", lw=lw)\n",
    "plt.fill_between(param_range, train_scores_mean - train_scores_std,\n",
    "                 train_scores_mean + train_scores_std, alpha=0.2,\n",
    "                 color=\"darkorange\", lw=lw)\n",
    "plt.semilogx(param_range, test_scores_mean, label=\"Cross-validation score\",\n",
    "             color=\"navy\", lw=lw)\n",
    "plt.fill_between(param_range, test_scores_mean - test_scores_std,\n",
    "                 test_scores_mean + test_scores_std, alpha=0.2,\n",
    "                 color=\"navy\", lw=lw)\n",
    "plt.legend(loc=\"best\")\n",
    "plt.show()"
   ]
  },
  {
   "cell_type": "markdown",
   "metadata": {},
   "source": [
    "## Cross Validation"
   ]
  },
  {
   "cell_type": "markdown",
   "metadata": {},
   "source": [
    "### K-fold"
   ]
  },
  {
   "cell_type": "code",
   "execution_count": 11,
   "metadata": {
    "collapsed": true
   },
   "outputs": [],
   "source": [
    "#GBM\n",
    "model = GradientBoostingRegressor(n_estimators=1500, learning_rate=0.1,max_depth=4, random_state=0, loss='ls').fit(X, y)"
   ]
  },
  {
   "cell_type": "code",
   "execution_count": 12,
   "metadata": {},
   "outputs": [
    {
     "name": "stdout",
     "output_type": "stream",
     "text": [
      "[ 0.51596998  0.52889133  0.52898749  0.53374406  0.52356115  0.5181723\n",
      "  0.54088485  0.52148472  0.58003088  0.55897463]\n"
     ]
    }
   ],
   "source": [
    "\n",
    "k_fold = KFold(len(y), n_folds=10, shuffle=True, random_state=0)\n",
    "print (cross_val_score(model, X, y, cv=k_fold, n_jobs=1))"
   ]
  },
  {
   "cell_type": "code",
   "execution_count": 68,
   "metadata": {
    "collapsed": true
   },
   "outputs": [],
   "source": [
    "#RandomForest\n",
    "RF= RandomForestRegressor(n_estimators=300,max_depth=4,)\n",
    "model2=RF.fit(X,y)"
   ]
  },
  {
   "cell_type": "code",
   "execution_count": 22,
   "metadata": {},
   "outputs": [
    {
     "name": "stdout",
     "output_type": "stream",
     "text": [
      "[0.12739586 0.14106554 0.16019255 0.1566742  0.11456478 0.1316116\n",
      " 0.13834619 0.15287295 0.1728952  0.14669629]\n"
     ]
    }
   ],
   "source": [
    "k_fold = KFold(len(y), n_folds=10, shuffle=True, random_state=0)\n",
    "print (cross_val_score(model2, X, y, cv=k_fold, n_jobs=1))"
   ]
  },
  {
   "cell_type": "code",
   "execution_count": 71,
   "metadata": {
    "collapsed": true
   },
   "outputs": [],
   "source": [
    "#Linear\n",
    "k_fold = KFold(len(y), n_folds=10, shuffle=True, random_state=0)\n",
    "lm = linear_model.LinearRegression()\n",
    "model3 = lm.fit(X, y)\n",
    "print (cross_val_score(model3, X, y, cv=k_fold, n_jobs=1))"
   ]
  },
  {
   "cell_type": "code",
   "execution_count": 7,
   "metadata": {},
   "outputs": [
    {
     "name": "stdout",
     "output_type": "stream",
     "text": [
      "[0.36643616 0.36945491 0.36409526 0.35757147 0.3805682  0.3805224\n",
      " 0.40229774 0.41789279 0.40343481 0.34727024]\n"
     ]
    }
   ],
   "source": [
    "#NeuralNetwork\n",
    "mlp = MLPRegressor(hidden_layer_sizes=(50,50,50,50,50),max_iter=500)\n",
    "mlp.fit(X,y)\n",
    "train_predict=mlp.predict(X)\n",
    "print (cross_val_score(mlp, X, y, cv=k_fold, n_jobs=1))\n"
   ]
  },
  {
   "cell_type": "markdown",
   "metadata": {},
   "source": [
    "### Leave One Out"
   ]
  },
  {
   "cell_type": "code",
   "execution_count": null,
   "metadata": {},
   "outputs": [
    {
     "name": "stderr",
     "output_type": "stream",
     "text": [
      "[Parallel(n_jobs=8)]: Done  25 tasks      | elapsed:  4.2min\n",
      "[Parallel(n_jobs=8)]: Done 146 tasks      | elapsed: 21.0min\n",
      "[Parallel(n_jobs=8)]: Done 349 tasks      | elapsed: 49.6min\n"
     ]
    }
   ],
   "source": [
    "#GBM\n",
    "scores = cross_val_score(model, X, y, cv=LeaveOneOut(len(X)), n_jobs=8, verbose=2)\n",
    "scores"
   ]
  },
  {
   "cell_type": "code",
   "execution_count": null,
   "metadata": {},
   "outputs": [
    {
     "name": "stderr",
     "output_type": "stream",
     "text": [
      "[Parallel(n_jobs=8)]: Done  25 tasks      | elapsed:  4.3min\n",
      "[Parallel(n_jobs=8)]: Done 146 tasks      | elapsed: 388.9min\n"
     ]
    }
   ],
   "source": [
    "#Neural Network\n",
    "scores = cross_val_score(mlp, X, y, cv=LeaveOneOut(len(X)), n_jobs=8, verbose=2)\n",
    "scores"
   ]
  },
  {
   "cell_type": "code",
   "execution_count": null,
   "metadata": {
    "collapsed": true
   },
   "outputs": [],
   "source": [
    "#Random forest\n",
    "scores_rf = cross_val_score(model2, X, y, cv=LeaveOneOut(len(X)))\n",
    "scores_rf"
   ]
  },
  {
   "cell_type": "code",
   "execution_count": 25,
   "metadata": {},
   "outputs": [
    {
     "name": "stderr",
     "output_type": "stream",
     "text": [
      "[Parallel(n_jobs=8)]: Done  25 tasks      | elapsed:   27.2s\n",
      "[Parallel(n_jobs=8)]: Done 372 tasks      | elapsed:   29.1s\n",
      "[Parallel(n_jobs=8)]: Done 1184 tasks      | elapsed:   33.6s\n",
      "[Parallel(n_jobs=8)]: Done 2316 tasks      | elapsed:   40.0s\n",
      "[Parallel(n_jobs=8)]: Done 3776 tasks      | elapsed:   48.1s\n",
      "[Parallel(n_jobs=8)]: Done 5556 tasks      | elapsed:   57.8s\n",
      "[Parallel(n_jobs=8)]: Done 7664 tasks      | elapsed:  1.2min\n",
      "[Parallel(n_jobs=8)]: Done 10092 tasks      | elapsed:  1.4min\n",
      "[Parallel(n_jobs=8)]: Done 12848 tasks      | elapsed:  1.6min\n",
      "[Parallel(n_jobs=8)]: Done 15924 tasks      | elapsed:  1.9min\n",
      "[Parallel(n_jobs=8)]: Done 19328 tasks      | elapsed:  2.2min\n",
      "[Parallel(n_jobs=8)]: Done 19720 out of 19735 | elapsed:  2.3min remaining:    0.0s\n",
      "[Parallel(n_jobs=8)]: Done 19735 out of 19735 | elapsed:  2.3min finished\n"
     ]
    },
    {
     "data": {
      "text/plain": [
       "array([0., 0., 0., ..., 0., 0., 0.])"
      ]
     },
     "execution_count": 25,
     "metadata": {},
     "output_type": "execute_result"
    }
   ],
   "source": [
    "#LinearRegression\n",
    "scores3 = cross_val_score(model3, X, y, cv=LeaveOneOut(len(X)), n_jobs=8, verbose=2)\n",
    "scores3"
   ]
  },
  {
   "cell_type": "markdown",
   "metadata": {},
   "source": [
    "# Lasso Regression"
   ]
  },
  {
   "cell_type": "code",
   "execution_count": 23,
   "metadata": {
    "collapsed": true
   },
   "outputs": [],
   "source": [
    "alphas = 10**np.linspace(10,-2,100)*0.5\n",
    "lasso = Lasso(alpha= 0,max_iter = 10000, normalize = True)\n",
    "coefs = []\n",
    "\n",
    "for a in alphas:\n",
    "    lasso.set_params(alpha=a)\n",
    "    lasso.fit(scale(X_train), y_train)\n",
    "    coefs.append(lasso.coef_)\n",
    "pred = lasso.predict(X_test)"
   ]
  },
  {
   "cell_type": "code",
   "execution_count": 39,
   "metadata": {},
   "outputs": [
    {
     "data": {
      "text/plain": [
       "<matplotlib.axes._subplots.AxesSubplot at 0x21e6ead8f98>"
      ]
     },
     "execution_count": 39,
     "metadata": {},
     "output_type": "execute_result"
    },
    {
     "data": {
      "image/png": "[encoded data removed]",
      "text/plain": [
       "<matplotlib.figure.Figure at 0x21e6ea38d68>"
      ]
     },
     "metadata": {},
     "output_type": "display_data"
    }
   ],
   "source": [
    "predictors = X_train.columns\n",
    "coefs = pd.Series(lasso.coef_,predictors).sort_values()\n",
    "coefs.plot(kind='bar', title='Modal Coefficients')"
   ]
  },
  {
   "cell_type": "markdown",
   "metadata": {},
   "source": [
    "## LassoCV"
   ]
  },
  {
   "cell_type": "code",
   "execution_count": 49,
   "metadata": {},
   "outputs": [
    {
     "data": {
      "text/plain": [
       "10650.179025823614"
      ]
     },
     "execution_count": 49,
     "metadata": {},
     "output_type": "execute_result"
    }
   ],
   "source": [
    "lassocv = LassoCV(alphas = alphas, cv = 10, max_iter = 100000, normalize = True)\n",
    "lassocv.fit(X_train, y_train)\n",
    "\n",
    "pred_test=lasso.predict(X_test)\n",
    "mean_squared_error(y_test, lassocv.predict(X_test))"
   ]
  },
  {
   "cell_type": "code",
   "execution_count": 50,
   "metadata": {},
   "outputs": [
    {
     "data": {
      "text/plain": [
       "0.020680150424673638"
      ]
     },
     "execution_count": 50,
     "metadata": {},
     "output_type": "execute_result"
    }
   ],
   "source": [
    "\n",
    "r2_score(y_test,pred_test)"
   ]
  },
  {
   "cell_type": "markdown",
   "metadata": {},
   "source": [
    "## Ridge"
   ]
  },
  {
   "cell_type": "markdown",
   "metadata": {},
   "source": [
    "### Alpha Value=4"
   ]
  },
  {
   "cell_type": "code",
   "execution_count": 52,
   "metadata": {},
   "outputs": [
    {
     "name": "stdout",
     "output_type": "stream",
     "text": [
      "lights               3.586090e+01\n",
      "hum_kitchen          1.715271e+01\n",
      "hum_living          -1.146545e+01\n",
      "temp_laundry         8.530177e+00\n",
      "hum_laundry          6.239689e+00\n",
      "temp_office          1.329891e+00\n",
      "hum_office           1.640862e+00\n",
      "temp_bathroom       -8.420544e-01\n",
      "hum_bathroom         9.319668e-01\n",
      "temp_building_out    1.157327e+01\n",
      "hum_building_out    -4.257555e+00\n",
      "hum_ironing         -7.858957e+00\n",
      "temp_teenRoom        2.388946e+00\n",
      "temp_parentRoom     -1.804204e+00\n",
      "hum_parentRoom      -7.324282e+00\n",
      "Pressure            -3.936877e+00\n",
      "Tdewpoint           -9.087726e-01\n",
      "Num_sec_midnight    -1.480205e-12\n",
      "dtype: float64\n",
      "Mean_Square 10339.8893777\n"
     ]
    }
   ],
   "source": [
    "ridge2 = Ridge(alpha = 4, normalize = True)\n",
    "ridge2.fit(X_train, y_train)             # Fit a ridge regression on the training data\n",
    "pred2 = ridge2.predict(X_test)           # Use this model to predict the test data\n",
    "print(pd.Series(ridge2.coef_, index = X_train.columns)) # Print coefficients\n",
    "print(\"Mean_Square\",mean_squared_error(y_test, pred2))          # Calculate the test MSE"
   ]
  },
  {
   "cell_type": "markdown",
   "metadata": {},
   "source": [
    "### Alpha = 10**10"
   ]
  },
  {
   "cell_type": "code",
   "execution_count": 53,
   "metadata": {},
   "outputs": [
    {
     "name": "stdout",
     "output_type": "stream",
     "text": [
      "lights               1.776388e-08\n",
      "hum_kitchen          7.739085e-09\n",
      "hum_living          -5.363827e-09\n",
      "temp_laundry         5.406176e-09\n",
      "hum_laundry          2.307141e-09\n",
      "temp_office          2.498462e-09\n",
      "hum_office           7.486585e-10\n",
      "temp_bathroom        1.354518e-09\n",
      "hum_bathroom         3.868356e-10\n",
      "temp_building_out    6.727257e-09\n",
      "hum_building_out    -2.796849e-09\n",
      "hum_ironing         -3.360450e-09\n",
      "temp_teenRoom        2.658894e-09\n",
      "temp_parentRoom      7.774290e-10\n",
      "hum_parentRoom      -3.455197e-09\n",
      "Pressure            -2.216885e-09\n",
      "Tdewpoint            7.411781e-10\n",
      "Num_sec_midnight    -5.561036e-22\n",
      "dtype: float64\n",
      "10650.1790256\n"
     ]
    }
   ],
   "source": [
    "ridge3 = Ridge(alpha = 10**10, normalize = True)\n",
    "ridge3.fit(X_train, y_train)             # Fit a ridge regression on the training data\n",
    "pred3 = ridge3.predict(X_test)           # Use this model to predict the test data\n",
    "print(pd.Series(ridge3.coef_, index = X_train.columns)) # Print coefficients\n",
    "print(mean_squared_error(y_test, pred3))          # Calculate the test MSE"
   ]
  },
  {
   "cell_type": "markdown",
   "metadata": {},
   "source": [
    "### Alpha = 0"
   ]
  },
  {
   "cell_type": "code",
   "execution_count": 54,
   "metadata": {},
   "outputs": [
    {
     "name": "stdout",
     "output_type": "stream",
     "text": [
      "lights               1.600402e+02\n",
      "hum_kitchen          4.234929e+02\n",
      "hum_living          -1.757733e+02\n",
      "temp_laundry         2.563175e+02\n",
      "hum_laundry          5.397860e+01\n",
      "temp_office         -1.146901e+02\n",
      "hum_office          -7.953566e+01\n",
      "temp_bathroom       -4.764717e+01\n",
      "hum_bathroom         2.861358e+00\n",
      "temp_building_out    1.166675e+02\n",
      "hum_building_out     1.701818e+01\n",
      "hum_ironing         -9.863231e+01\n",
      "temp_teenRoom        5.066898e+01\n",
      "temp_parentRoom     -1.041847e+02\n",
      "hum_parentRoom      -6.367303e+01\n",
      "Pressure             1.568353e+00\n",
      "Tdewpoint           -6.048874e+01\n",
      "Num_sec_midnight    -1.372573e-11\n",
      "dtype: float64\n",
      "9112.28211998\n"
     ]
    }
   ],
   "source": [
    "ridge2 = Ridge(alpha = 0, normalize = True)\n",
    "ridge2.fit(X_train, y_train)             # Fit a ridge regression on the training data\n",
    "pred = ridge2.predict(X_test)            # Use this model to predict the test data\n",
    "print(pd.Series(ridge2.coef_, index = X_train.columns)) # Print coefficients\n",
    "print(mean_squared_error(y_test, pred))           # Calculate the test MSE"
   ]
  },
  {
   "cell_type": "markdown",
   "metadata": {},
   "source": [
    "## RidgeCV"
   ]
  },
  {
   "cell_type": "code",
   "execution_count": 55,
   "metadata": {},
   "outputs": [
    {
     "data": {
      "text/plain": [
       "0.0050000000000000001"
      ]
     },
     "execution_count": 55,
     "metadata": {},
     "output_type": "execute_result"
    }
   ],
   "source": [
    "alphas = 10**np.linspace(10,-2,100)*0.5\n",
    "ridgecv = RidgeCV(alphas = alphas, scoring = 'neg_mean_squared_error', normalize = True)\n",
    "ridgecv.fit(X_train, y_train)\n",
    "ridgecv.alpha_"
   ]
  },
  {
   "cell_type": "code",
   "execution_count": 56,
   "metadata": {},
   "outputs": [
    {
     "data": {
      "text/plain": [
       "9115.837225415733"
      ]
     },
     "execution_count": 56,
     "metadata": {},
     "output_type": "execute_result"
    }
   ],
   "source": [
    "ridge4 = Ridge(alpha = ridgecv.alpha_, normalize = True)\n",
    "ridge4.fit(X_train, y_train)\n",
    "mean_squared_error(y_test, ridge4.predict(X_test))"
   ]
  },
  {
   "cell_type": "code",
   "execution_count": 57,
   "metadata": {},
   "outputs": [
    {
     "data": {
      "text/plain": [
       "0.14399724271994974"
      ]
     },
     "execution_count": 57,
     "metadata": {},
     "output_type": "execute_result"
    }
   ],
   "source": [
    "ridge4.fit(X_train, y_train)\n",
    "pd.Series(ridge4.coef_, index = X_train.columns)\n",
    "ridge4.score(X_test,y_test)"
   ]
  },
  {
   "cell_type": "code",
   "execution_count": 58,
   "metadata": {},
   "outputs": [
    {
     "data": {
      "text/plain": [
       "<matplotlib.axes._subplots.AxesSubplot at 0x21e709a6550>"
      ]
     },
     "execution_count": 58,
     "metadata": {},
     "output_type": "execute_result"
    },
    {
     "data": {
      "image/png": "[encoded data removed]",
      "text/plain": [
       "<matplotlib.figure.Figure at 0x21e70a46b38>"
      ]
     },
     "metadata": {},
     "output_type": "display_data"
    }
   ],
   "source": [
    "predictors = X_train.columns\n",
    "coefs = pd.Series(ridge4.coef_,predictors).sort_values()\n",
    "coefs.plot(kind='bar', title='Modal Coefficients')"
   ]
  },
  {
   "cell_type": "markdown",
   "metadata": {},
   "source": [
    "## ElasticNet"
   ]
  },
  {
   "cell_type": "code",
   "execution_count": 59,
   "metadata": {},
   "outputs": [
    {
     "data": {
      "text/plain": [
       "0.0047839411134229515"
      ]
     },
     "execution_count": 59,
     "metadata": {},
     "output_type": "execute_result"
    }
   ],
   "source": [
    "ENreg = ElasticNet(alpha=1, l1_ratio=0.5, normalize=False)\n",
    "ENreg.fit(X_train,y_train)\n",
    "pred_cv = ENreg.predict(X_test)\n",
    "#ENreg.score(X_test,y_test)\n",
    "r2_score(y_test,pred_cv)\n"
   ]
  },
  {
   "cell_type": "code",
   "execution_count": 60,
   "metadata": {},
   "outputs": [
    {
     "data": {
      "text/plain": [
       "<matplotlib.axes._subplots.AxesSubplot at 0x21e7098e860>"
      ]
     },
     "execution_count": 60,
     "metadata": {},
     "output_type": "execute_result"
    },
    {
     "data": {
      "image/png": "[encoded data removed]",
      "text/plain": [
       "<matplotlib.figure.Figure at 0x21e6cd730b8>"
      ]
     },
     "metadata": {},
     "output_type": "display_data"
    }
   ],
   "source": [
    "predictors = X_train.columns\n",
    "coefs = pd.Series(ENreg.coef_,predictors).sort_values()\n",
    "coefs.plot(kind='bar', title='Modal Coefficients')"
   ]
  },
  {
   "cell_type": "markdown",
   "metadata": {},
   "source": [
    "## GridSearchCV"
   ]
  },
  {
   "cell_type": "code",
   "execution_count": 99,
   "metadata": {
    "collapsed": true
   },
   "outputs": [],
   "source": [
    "rf= RandomForestRegressor(n_estimators=300,max_depth=4,)"
   ]
  },
  {
   "cell_type": "code",
   "execution_count": 82,
   "metadata": {
    "collapsed": true
   },
   "outputs": [],
   "source": [
    "param_grid = {'polynomialfeatures__degree': np.arange(21),\n",
    "              'linearregression__fit_intercept': [True, False],\n",
    "              'linearregression__normalize': [True, False]}"
   ]
  },
  {
   "cell_type": "code",
   "execution_count": 86,
   "metadata": {},
   "outputs": [
    {
     "name": "stdout",
     "output_type": "stream",
     "text": [
      "r2 / variance :  -4.009912178078779e+19\n",
      "Residual sum of squares: 9097.55\n"
     ]
    }
   ],
   "source": [
    "parameters = {'fit_intercept':[True,False], 'normalize':[True,False], 'copy_X':[True, False]}\n",
    "grid = GridSearchCV(model3,parameters, cv=None)\n",
    "grid.fit(X, y)\n",
    "print(\"r2 / variance : \", grid.best_score_)\n",
    "print(\"Residual sum of squares: %.2f\"\n",
    "              % np.mean((grid.predict(X_test) - y_test) ** 2))"
   ]
  },
  {
   "cell_type": "code",
   "execution_count": 101,
   "metadata": {},
   "outputs": [
    {
     "name": "stdout",
     "output_type": "stream",
     "text": [
      "0.5179801145867352\n",
      "{'n_estimators': 200}\n"
     ]
    }
   ],
   "source": [
    "rf = RandomForestRegressor()\n",
    "param_grid = { \n",
    "        \"n_estimators\"      : [100,200,300]\n",
    "        }\n",
    "grid = GridSearchCV(rf,param_grid,cv=10)\n",
    "\n",
    "grid.fit(X_train, y_train)\n",
    "# pred_rf=grid.predict(X_test)\n",
    "# print(\"Residual sum of squares: %.2f\"\n",
    "#               % np.mean((grid.predict(X_test) - y_test) ** 2))\n",
    "print(grid.best_score_)\n",
    "print(grid.best_params_)"
   ]
  },
  {
   "cell_type": "code",
   "execution_count": 102,
   "metadata": {
    "scrolled": true
   },
   "outputs": [
    {
     "name": "stdout",
     "output_type": "stream",
     "text": [
      "RandomForestRegressor(bootstrap=True, criterion='mse', max_depth=None,\n",
      "           max_features='auto', max_leaf_nodes=None,\n",
      "           min_impurity_decrease=0.0, min_impurity_split=None,\n",
      "           min_samples_leaf=1, min_samples_split=2,\n",
      "           min_weight_fraction_leaf=0.0, n_estimators=200, n_jobs=1,\n",
      "           oob_score=False, random_state=None, verbose=0, warm_start=False)\n"
     ]
    }
   ],
   "source": [
    "print(grid.best_estimator_)"
   ]
  },
  {
   "cell_type": "code",
   "execution_count": 7,
   "metadata": {},
   "outputs": [
    {
     "name": "stdout",
     "output_type": "stream",
     "text": [
      "0.5023166046215263\n",
      "{'learning_rate': 0.1, 'max_depth': 5, 'n_estimators': 1500}\n"
     ]
    }
   ],
   "source": [
    "gb= GradientBoostingRegressor()\n",
    "param_grid = { 'n_estimators': [1000, 1500], 'learning_rate': [0.1,0.8, 1.0] , 'max_depth' : [4,5] }\n",
    "grid = GridSearchCV(gb,param_grid,cv=10)\n",
    "\n",
    "grid.fit(X_train, y_train)\n",
    "# pred_rf=grid.predict(X_test)\n",
    "# print(\"Residual sum of squares: %.2f\"\n",
    "#               % np.mean((grid.predict(X_test) - y_test) ** 2))\n",
    "print(grid.best_score_)\n",
    "print(grid.best_params_)"
   ]
  },
  {
   "cell_type": "code",
   "execution_count": 8,
   "metadata": {},
   "outputs": [
    {
     "name": "stdout",
     "output_type": "stream",
     "text": [
      "GradientBoostingRegressor(alpha=0.9, criterion='friedman_mse', init=None,\n",
      "             learning_rate=0.1, loss='ls', max_depth=5, max_features=None,\n",
      "             max_leaf_nodes=None, min_impurity_decrease=0.0,\n",
      "             min_impurity_split=None, min_samples_leaf=1,\n",
      "             min_samples_split=2, min_weight_fraction_leaf=0.0,\n",
      "             n_estimators=1500, presort='auto', random_state=None,\n",
      "             subsample=1.0, verbose=0, warm_start=False)\n"
     ]
    }
   ],
   "source": [
    "print(grid.best_estimator_)"
   ]
  }
 ],
 "metadata": {
  "kernelspec": {
   "display_name": "Python 3",
   "language": "python",
   "name": "python3"
  },
  "language_info": {
   "codemirror_mode": {
    "name": "ipython",
    "version": 3
   },
   "file_extension": ".py",
   "mimetype": "text/x-python",
   "name": "python",
   "nbconvert_exporter": "python",
   "pygments_lexer": "ipython3",
   "version": "3.6.3"
  }
 },
 "nbformat": 4,
 "nbformat_minor": 2
}
