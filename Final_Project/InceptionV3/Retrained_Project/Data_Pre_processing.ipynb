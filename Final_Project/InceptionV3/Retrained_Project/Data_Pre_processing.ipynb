{
 "cells": [
  {
   "cell_type": "code",
   "execution_count": 1,
   "metadata": {},
   "outputs": [
    {
     "name": "stderr",
     "output_type": "stream",
     "text": [
      "C:\\ProgramData\\Anaconda3\\lib\\site-packages\\h5py\\__init__.py:36: FutureWarning: Conversion of the second argument of issubdtype from `float` to `np.floating` is deprecated. In future, it will be treated as `np.float64 == np.dtype(float).type`.\n",
      "  from ._conv import register_converters as _register_converters\n",
      "Using TensorFlow backend.\n"
     ]
    }
   ],
   "source": [
    "import os,sys\n",
    "import h5py\n",
    "import pandas as pd\n",
    "import numpy as np\n",
    "from keras.preprocessing.image import ImageDataGenerator,array_to_img, img_to_array, load_img\n",
    "from keras.models import Sequential\n",
    "from keras.layers import Dropout, Flatten, Dense\n",
    "from keras import applications\n",
    "import matplotlib.pyplot as plt\n",
    "import seaborn as sns\n",
    "import math\n",
    "%matplotlib inline\n",
    "from tqdm import tqdm\n",
    "from PIL import Image"
   ]
  },
  {
   "cell_type": "code",
   "execution_count": 12,
   "metadata": {},
   "outputs": [],
   "source": [
    "label_counts = pd.Series([33,36,36,35,30,34,34,37,33,24,33,30,30,35,32,30,29,31,34,36,29,33,34,27,33],index = ['adidas','apple','bmw','citroen','coco cola','ferrari','ford','google','heineken','hp','intel','mcdonalds','mini','nbc','nike','pepsi','porsche','puma','red bull','sprite','starbucks','texaco','unicef','vodafone','yahoo'])"
   ]
  },
  {
   "cell_type": "code",
   "execution_count": 13,
   "metadata": {},
   "outputs": [
    {
     "data": {
      "text/plain": [
       "adidas       33\n",
       "apple        36\n",
       "bmw          36\n",
       "citroen      35\n",
       "coco cola    30\n",
       "ferrari      34\n",
       "ford         34\n",
       "google       37\n",
       "heineken     33\n",
       "hp           24\n",
       "intel        33\n",
       "mcdonalds    30\n",
       "mini         30\n",
       "nbc          35\n",
       "nike         32\n",
       "pepsi        30\n",
       "porsche      29\n",
       "puma         31\n",
       "red bull     34\n",
       "sprite       36\n",
       "starbucks    29\n",
       "texaco       33\n",
       "unicef       34\n",
       "vodafone     27\n",
       "yahoo        33\n",
       "dtype: int64"
      ]
     },
     "execution_count": 13,
     "metadata": {},
     "output_type": "execute_result"
    }
   ],
   "source": [
    "label_counts"
   ]
  },
  {
   "cell_type": "markdown",
   "metadata": {},
   "source": [
    "### Some agile data augmentation (to prevent overfitting) + class balance"
   ]
  },
  {
   "cell_type": "code",
   "execution_count": 15,
   "metadata": {},
   "outputs": [
    {
     "name": "stdout",
     "output_type": "stream",
     "text": [
      "33 594\n",
      "36 576\n",
      "36 576\n",
      "35 595\n",
      "30 600\n",
      "34 578\n",
      "34 578\n",
      "37 592\n",
      "33 594\n",
      "24 600\n",
      "33 594\n",
      "30 600\n",
      "30 600\n",
      "35 595\n",
      "32 576\n",
      "30 600\n",
      "29 580\n",
      "31 589\n",
      "34 578\n",
      "36 576\n",
      "29 580\n",
      "33 594\n",
      "34 578\n",
      "27 594\n",
      "33 594\n"
     ]
    }
   ],
   "source": [
    "data_root='.'\n",
    "datagen = ImageDataGenerator(\n",
    "        rotation_range=40,\n",
    "        width_shift_range=0.2,\n",
    "        height_shift_range=0.2,\n",
    "        shear_range=0.2,\n",
    "        zoom_range=0.2,\n",
    "        horizontal_flip=True,\n",
    "        fill_mode='nearest')\n",
    "\n",
    "class_size=600\n",
    "\n",
    "src_train_dir=os.path.join(data_root,'flickr_27')\n",
    "dest_train_dir=os.path.join(data_root,'train')\n",
    "it=0\n",
    "for count in label_counts.values:\n",
    "    #nb of generations per image for this class label in order to make it size ~= class_size\n",
    "    ratio=math.floor(class_size/count)-1\n",
    "    print(count,count*(ratio+1))\n",
    "    dest_lab_dir=os.path.join(dest_train_dir,label_counts.index[it])\n",
    "    src_lab_dir=os.path.join(src_train_dir,label_counts.index[it])\n",
    "    if not os.path.exists(dest_lab_dir):\n",
    "        os.makedirs(dest_lab_dir)\n",
    "    for file in os.listdir(src_lab_dir):\n",
    "        img=load_img(os.path.join(src_lab_dir,file))\n",
    "        #img.save(os.path.join(dest_lab_dir,file))\n",
    "        x=img_to_array(img) \n",
    "        x=x.reshape((1,) + x.shape)\n",
    "        i=0\n",
    "        for batch in datagen.flow(x, batch_size=1,save_to_dir=dest_lab_dir, save_format='jpg'):\n",
    "            i+=1\n",
    "            if i > ratio:\n",
    "                break \n",
    "    it=it+1"
   ]
  },
  {
   "cell_type": "code",
   "execution_count": null,
   "metadata": {},
   "outputs": [],
   "source": []
  }
 ],
 "metadata": {
  "kernelspec": {
   "display_name": "Python 3",
   "language": "python",
   "name": "python3"
  },
  "language_info": {
   "codemirror_mode": {
    "name": "ipython",
    "version": 3
   },
   "file_extension": ".py",
   "mimetype": "text/x-python",
   "name": "python",
   "nbconvert_exporter": "python",
   "pygments_lexer": "ipython3",
   "version": "3.6.4"
  }
 },
 "nbformat": 4,
 "nbformat_minor": 2
}
